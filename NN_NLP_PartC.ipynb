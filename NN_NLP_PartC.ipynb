{
  "cells": [
    {
      "cell_type": "code",
      "execution_count": 1,
      "metadata": {
        "id": "PZTDYxSjbHlg",
        "colab": {
          "base_uri": "https://localhost:8080/"
        },
        "outputId": "5ccb8c80-117f-47ac-956a-f485d28af829"
      },
      "outputs": [
        {
          "output_type": "execute_result",
          "data": {
            "text/plain": [
              "['Collecting tensorflow_probability==0.14',\n",
              " '  Downloading tensorflow_probability-0.14.0-py2.py3-none-any.whl (5.7 MB)',\n",
              " '\\x1b[?25l     \\x1b[90m━━━━━━━━━━━━━━━━━━━━━━━━━━━━━━━━━━━━━━━━\\x1b[0m \\x1b[32m0.0/5.7 MB\\x1b[0m \\x1b[31m?\\x1b[0m eta \\x1b[36m-:--:--\\x1b[0m',\n",
              " '\\x1b[2K     \\x1b[90m━━━━━━━━━━━━━━━━━━━━━━━━━━━━━━━━━━━━━━━━\\x1b[0m \\x1b[32m0.0/5.7 MB\\x1b[0m \\x1b[31m895.1 kB/s\\x1b[0m eta \\x1b[36m0:00:07\\x1b[0m',\n",
              " '\\x1b[2K     \\x1b[91m╸\\x1b[0m\\x1b[90m━━━━━━━━━━━━━━━━━━━━━━━━━━━━━━━━━━━━━━━\\x1b[0m \\x1b[32m0.1/5.7 MB\\x1b[0m \\x1b[31m1.2 MB/s\\x1b[0m eta \\x1b[36m0:00:05\\x1b[0m',\n",
              " '\\x1b[2K     \\x1b[91m━━\\x1b[0m\\x1b[90m╺\\x1b[0m\\x1b[90m━━━━━━━━━━━━━━━━━━━━━━━━━━━━━━━━━━━━━\\x1b[0m \\x1b[32m0.3/5.7 MB\\x1b[0m \\x1b[31m2.7 MB/s\\x1b[0m eta \\x1b[36m0:00:02\\x1b[0m',\n",
              " '\\x1b[2K     \\x1b[91m━━━━━\\x1b[0m\\x1b[90m╺\\x1b[0m\\x1b[90m━━━━━━━━━━━━━━━━━━━━━━━━━━━━━━━━━━\\x1b[0m \\x1b[32m0.7/5.7 MB\\x1b[0m \\x1b[31m4.9 MB/s\\x1b[0m eta \\x1b[36m0:00:01\\x1b[0m',\n",
              " '\\x1b[2K     \\x1b[91m━━━━━━━━━━━\\x1b[0m\\x1b[90m╺\\x1b[0m\\x1b[90m━━━━━━━━━━━━━━━━━━━━━━━━━━━━\\x1b[0m \\x1b[32m1.6/5.7 MB\\x1b[0m \\x1b[31m8.7 MB/s\\x1b[0m eta \\x1b[36m0:00:01\\x1b[0m',\n",
              " '\\x1b[2K     \\x1b[91m━━━━━━━━━━━━━━━━━━━━━━━━\\x1b[0m\\x1b[91m╸\\x1b[0m\\x1b[90m━━━━━━━━━━━━━━━\\x1b[0m \\x1b[32m3.5/5.7 MB\\x1b[0m \\x1b[31m15.9 MB/s\\x1b[0m eta \\x1b[36m0:00:01\\x1b[0m',\n",
              " '\\x1b[2K     \\x1b[91m━━━━━━━━━━━━━━━━━━━━━━━━━━━━━━━━━━━━━━━\\x1b[0m\\x1b[91m╸\\x1b[0m \\x1b[32m5.7/5.7 MB\\x1b[0m \\x1b[31m22.3 MB/s\\x1b[0m eta \\x1b[36m0:00:01\\x1b[0m',\n",
              " '\\x1b[2K     \\x1b[91m━━━━━━━━━━━━━━━━━━━━━━━━━━━━━━━━━━━━━━━\\x1b[0m\\x1b[91m╸\\x1b[0m \\x1b[32m5.7/5.7 MB\\x1b[0m \\x1b[31m22.3 MB/s\\x1b[0m eta \\x1b[36m0:00:01\\x1b[0m',\n",
              " '\\x1b[2K     \\x1b[90m━━━━━━━━━━━━━━━━━━━━━━━━━━━━━━━━━━━━━━━━\\x1b[0m \\x1b[32m5.7/5.7 MB\\x1b[0m \\x1b[31m18.1 MB/s\\x1b[0m eta \\x1b[36m0:00:00\\x1b[0m',\n",
              " '\\x1b[?25hRequirement already satisfied: absl-py in /usr/local/lib/python3.10/dist-packages (from tensorflow_probability==0.14) (1.4.0)',\n",
              " 'Requirement already satisfied: six>=1.10.0 in /usr/local/lib/python3.10/dist-packages (from tensorflow_probability==0.14) (1.16.0)',\n",
              " 'Requirement already satisfied: numpy>=1.13.3 in /usr/local/lib/python3.10/dist-packages (from tensorflow_probability==0.14) (1.23.5)',\n",
              " 'Requirement already satisfied: decorator in /usr/local/lib/python3.10/dist-packages (from tensorflow_probability==0.14) (4.4.2)',\n",
              " 'Requirement already satisfied: cloudpickle>=1.3 in /usr/local/lib/python3.10/dist-packages (from tensorflow_probability==0.14) (2.2.1)',\n",
              " 'Requirement already satisfied: gast>=0.3.2 in /usr/local/lib/python3.10/dist-packages (from tensorflow_probability==0.14) (0.4.0)',\n",
              " 'Requirement already satisfied: dm-tree in /usr/local/lib/python3.10/dist-packages (from tensorflow_probability==0.14) (0.1.8)',\n",
              " 'Installing collected packages: tensorflow_probability',\n",
              " '  Attempting uninstall: tensorflow_probability',\n",
              " '    Found existing installation: tensorflow-probability 0.23.0',\n",
              " '    Uninstalling tensorflow-probability-0.23.0:',\n",
              " '      Successfully uninstalled tensorflow-probability-0.23.0',\n",
              " 'Successfully installed tensorflow_probability-0.14.0']"
            ]
          },
          "metadata": {},
          "execution_count": 1
        }
      ],
      "source": [
        "!!pip install tensorflow_probability==0.14"
      ]
    },
    {
      "cell_type": "markdown",
      "metadata": {
        "id": "2TvyemfDlDmu"
      },
      "source": [
        "# Lab 4 - Social Media Processing\n",
        "\n",
        "This notebook shows how to use HuggingFace's package to import and train regression models to assess humor rating in social media posts in English (SemEval2021: HaHackathon: Detecting and Rating Humor and Offense https://competitions.codalab.org/competitions/27446, **Task-1b**).\n",
        "\n",
        "Detection of humour, especially in social media posts, poses a linguistic challenge to NLP, due to the noise, figurative language, contextuality and subjectivity. You will hence try different methods to address those challenges such as preprocessing, data augmentation, ensembling and multi-task learning.\n",
        "\n",
        "We will download and unzip the data from here: http://smash.inf.ed.ac.uk/hahackathon_data/hahackathon_data.zip.\n",
        "\n",
        "\n",
        "We recommend you to do this lab on a Colab TPU provided by Google."
      ]
    },
    {
      "cell_type": "code",
      "execution_count": 2,
      "metadata": {
        "id": "Vkzoj2bRu3Ky",
        "colab": {
          "base_uri": "https://localhost:8080/"
        },
        "outputId": "162e5bb2-21e9-4894-bb1a-de9ecbe7bb38"
      },
      "outputs": [
        {
          "output_type": "stream",
          "name": "stdout",
          "text": [
            "--2024-02-28 02:19:25--  http://smash.inf.ed.ac.uk/hahackathon_data/hahackathon_data.zip\n",
            "Resolving smash.inf.ed.ac.uk (smash.inf.ed.ac.uk)... 129.215.10.97\n",
            "Connecting to smash.inf.ed.ac.uk (smash.inf.ed.ac.uk)|129.215.10.97|:80... connected.\n",
            "HTTP request sent, awaiting response... 200 OK\n",
            "Length: 571603 (558K) [application/zip]\n",
            "Saving to: ‘hahackathon_data.zip’\n",
            "\n",
            "hahackathon_data.zi 100%[===================>] 558.21K  1.03MB/s    in 0.5s    \n",
            "\n",
            "2024-02-28 02:19:26 (1.03 MB/s) - ‘hahackathon_data.zip’ saved [571603/571603]\n",
            "\n",
            "Archive:  /content/hahackathon_data.zip\n",
            "   creating: hahackathon data/\n",
            "  inflating: hahackathon data/.DS_Store  \n",
            "  inflating: __MACOSX/hahackathon data/._.DS_Store  \n",
            "  inflating: hahackathon data/test.csv  \n",
            "  inflating: __MACOSX/hahackathon data/._test.csv  \n",
            "  inflating: hahackathon data/dev.csv  \n",
            "  inflating: __MACOSX/hahackathon data/._dev.csv  \n",
            "  inflating: hahackathon data/train.csv  \n",
            "  inflating: __MACOSX/hahackathon data/._train.csv  \n"
          ]
        }
      ],
      "source": [
        "!wget http://smash.inf.ed.ac.uk/hahackathon_data/hahackathon_data.zip\n",
        "!unzip '/content/hahackathon_data.zip'"
      ]
    },
    {
      "cell_type": "markdown",
      "metadata": {
        "id": "aa3hj8h05WZL"
      },
      "source": [
        "First, we need to install Hugging Face [transformers](https://huggingface.co/transformers/index.html) and [Sentence piece Tokenizers](https://github.com/google/sentencepiece), as well as some helper libraries, with the following commands."
      ]
    },
    {
      "cell_type": "code",
      "execution_count": 3,
      "metadata": {
        "id": "modern-olympus",
        "colab": {
          "base_uri": "https://localhost:8080/"
        },
        "outputId": "9d29f290-6ec5-44df-f7dc-65e7e644761f"
      },
      "outputs": [
        {
          "output_type": "stream",
          "name": "stdout",
          "text": [
            "Enabling notebook extension jupyter-js-widgets/extension...\n",
            "Paths used for configuration of notebook: \n",
            "    \t/root/.jupyter/nbconfig/notebook.json\n",
            "Paths used for configuration of notebook: \n",
            "    \t\n",
            "      - Validating: \u001b[32mOK\u001b[0m\n",
            "Paths used for configuration of notebook: \n",
            "    \t/root/.jupyter/nbconfig/notebook.json\n"
          ]
        }
      ],
      "source": [
        "!pip install -q transformers\n",
        "!pip install -q sentencepiece\n",
        "!pip install -q  ipywidgets\n",
        "!jupyter nbextension enable --py widgetsnbextension"
      ]
    },
    {
      "cell_type": "code",
      "execution_count": 4,
      "metadata": {
        "id": "85fRpTxP-W8L"
      },
      "outputs": [],
      "source": [
        "import keras\n",
        "import numpy as np\n",
        "import random\n",
        "import matplotlib.pyplot as plt\n",
        "\n",
        "from keras.layers import Dense\n",
        "from keras.layers import Input, GlobalAveragePooling1D\n",
        "from keras.models import Model\n",
        "from keras import backend as K"
      ]
    },
    {
      "cell_type": "markdown",
      "source": [
        "We define the fix seed method to be able to introduce variety into ensembling models."
      ],
      "metadata": {
        "id": "yLbYtQNndziN"
      }
    },
    {
      "cell_type": "code",
      "execution_count": 5,
      "metadata": {
        "id": "CedBVCKMyq9d"
      },
      "outputs": [],
      "source": [
        "def set_random_seed(seed=123):\n",
        "  random.seed(seed)\n",
        "  np.random.seed(seed)\n",
        "\n",
        "set_random_seed()"
      ]
    },
    {
      "cell_type": "markdown",
      "metadata": {
        "id": "Zj_jHh2-ggC3"
      },
      "source": [
        "## Regression with BERT\n",
        "\n",
        "We will use the [DistilBert](https://arxiv.org/abs/1910.01108v4) model and its Tokeniser following the preprocessing code from Lab 6."
      ]
    },
    {
      "cell_type": "code",
      "execution_count": 6,
      "metadata": {
        "id": "ySbyGAsF-tNH",
        "colab": {
          "base_uri": "https://localhost:8080/",
          "height": 272,
          "referenced_widgets": [
            "3790b7ed5d324c749879dde6b1553b0a",
            "41ac4639112b43488ec758bf6b34c6fb",
            "6a4602e9a2794253aaa25646da389de9",
            "208cf680887d470a8b7385a76460feeb",
            "fffa089209814bbea7df7bb86bf74280",
            "b3d6d891153e4781bb3eb94c77039ff2",
            "37ef7aca1b82426a8318f424067385ce",
            "027b3ca0eba94b70a17c5a14d3899dd1",
            "26236c3f26b74fa5a6de48a4e738249c",
            "f3d20aa589464b91873dce26d459be99",
            "7f86987d3763427f87d0db66357ce3c5",
            "c420ffdd18fa413480bc4f21e1d33e43",
            "d91240821a17401c858c29edf0e96dc4",
            "48f44a99795641c38c9dff9cb5e4c8a4",
            "42698fc2b5064ec1a2ac19d6f67d1854",
            "6358bc64986f432e93f2dda8f12194c6",
            "3b1d44e3bc204410964516a12f4823cb",
            "fa91a3e97ffc4a9bb3461f216038f5fd",
            "2ccc118b777f4798bc69159de49f4369",
            "81a1b36d198a40bb8307ef287d682335",
            "1df48ff4864f427f9e60e4f6ded06d3d",
            "05e72854d7f74d6396c9f55a9ae7679f",
            "4ce1b94608cf49a99370fcc687a19f53",
            "5644a1e6767f48cf9415f8071a39a8fc",
            "168dfa2faf17400fa4cccda2695515ae",
            "a0c808c34c6543579d07d81b0aef1b88",
            "bbb48d19a4d3439793523064a5104e7b",
            "2e3bd58710154328b148d4a049b1e605",
            "9c959349d3d24571babd47bc78a17ae5",
            "45d525cf1965479d904e02d760f4b3e3",
            "990121451065429da5acbe7deb25c528",
            "67592caa71d449239808675c1eeded0e",
            "38e57a78198a406cac552c55159cfbf8",
            "0bc7923209ee4c588c1d75dc15b834fe",
            "0c745d525d7742baac3e20da27f1323a",
            "49768dd0f827409988173b129ef0dacb",
            "868e579decd74b32ade056a2aea10e8a",
            "6bf82b86270246258d0131230468f00b",
            "dfd7a788ccea47c18715aa35868dedb4",
            "0fcf6e50c45146ce8112d5f8d1440188",
            "a831fad915694cd2a473613f48c0d6c1",
            "0ecf108d605c4e7d9078de690b27d240",
            "229a812114cc4b169a4cc43be1c19293",
            "8dc2dae7648a4359b1ba985557c882f3"
          ]
        },
        "outputId": "976d3ff5-b533-43d4-eb62-528989d7d804"
      },
      "outputs": [
        {
          "output_type": "stream",
          "name": "stderr",
          "text": [
            "/usr/local/lib/python3.10/dist-packages/huggingface_hub/utils/_token.py:88: UserWarning: \n",
            "The secret `HF_TOKEN` does not exist in your Colab secrets.\n",
            "To authenticate with the Hugging Face Hub, create a token in your settings tab (https://huggingface.co/settings/tokens), set it as secret in your Google Colab and restart your session.\n",
            "You will be able to reuse this secret in all of your notebooks.\n",
            "Please note that authentication is recommended but still optional to access public models or datasets.\n",
            "  warnings.warn(\n"
          ]
        },
        {
          "output_type": "display_data",
          "data": {
            "text/plain": [
              "tokenizer_config.json:   0%|          | 0.00/28.0 [00:00<?, ?B/s]"
            ],
            "application/vnd.jupyter.widget-view+json": {
              "version_major": 2,
              "version_minor": 0,
              "model_id": "3790b7ed5d324c749879dde6b1553b0a"
            }
          },
          "metadata": {}
        },
        {
          "output_type": "display_data",
          "data": {
            "text/plain": [
              "vocab.txt:   0%|          | 0.00/232k [00:00<?, ?B/s]"
            ],
            "application/vnd.jupyter.widget-view+json": {
              "version_major": 2,
              "version_minor": 0,
              "model_id": "c420ffdd18fa413480bc4f21e1d33e43"
            }
          },
          "metadata": {}
        },
        {
          "output_type": "display_data",
          "data": {
            "text/plain": [
              "tokenizer.json:   0%|          | 0.00/466k [00:00<?, ?B/s]"
            ],
            "application/vnd.jupyter.widget-view+json": {
              "version_major": 2,
              "version_minor": 0,
              "model_id": "4ce1b94608cf49a99370fcc687a19f53"
            }
          },
          "metadata": {}
        },
        {
          "output_type": "display_data",
          "data": {
            "text/plain": [
              "config.json:   0%|          | 0.00/483 [00:00<?, ?B/s]"
            ],
            "application/vnd.jupyter.widget-view+json": {
              "version_major": 2,
              "version_minor": 0,
              "model_id": "0bc7923209ee4c588c1d75dc15b834fe"
            }
          },
          "metadata": {}
        }
      ],
      "source": [
        "from transformers import DistilBertTokenizer\n",
        "import tqdm\n",
        "\n",
        "# we will pad to 128 subword tokens\n",
        "PAD_LENGTH = 128\n",
        "bert = 'distilbert-base-uncased'\n",
        "BATCH_SIZE = 512\n",
        "EPOCHS =10\n",
        "\n",
        "# Defining DistilBERT tokenizer\n",
        "tokenizer = DistilBertTokenizer.from_pretrained(bert, do_lower_case=True, add_special_tokens=True,\n",
        "                                                max_length=PAD_LENGTH, padding='max_length', truncation=True)\n",
        "\n",
        "def tokenize(sentences, tokenizer, pad_length=PAD_LENGTH):\n",
        "    if type(sentences) == str:\n",
        "        inputs = tokenizer.encode_plus(sentences, add_special_tokens=True, max_length=pad_length, padding='max_length', truncation=True,\n",
        "                                             return_attention_mask=True, return_token_type_ids=True)\n",
        "        return np.asarray(inputs['input_ids'], dtype='int32'), np.asarray(inputs['attention_mask'], dtype='int32'), np.asarray(inputs['token_type_ids'], dtype='int32')\n",
        "    input_ids, input_masks, input_segments = [],[],[]\n",
        "    for sentence in sentences:\n",
        "        inputs = tokenizer.encode_plus(sentence, add_special_tokens=True, max_length=pad_length, padding='max_length', truncation=True,\n",
        "                                             return_attention_mask=True, return_token_type_ids=True)\n",
        "        input_ids.append(inputs['input_ids'])\n",
        "        input_masks.append(inputs['attention_mask'])\n",
        "        input_segments.append(inputs['token_type_ids'])\n",
        "\n",
        "    return (np.asarray(input_ids, dtype='int32'), np.asarray(input_masks, dtype='int32'), np.asarray(input_segments, dtype='int32'))\n"
      ]
    },
    {
      "cell_type": "markdown",
      "metadata": {
        "id": "WaEJpImWjBdB"
      },
      "source": [
        "Let's read the data using Pandas."
      ]
    },
    {
      "cell_type": "code",
      "execution_count": 7,
      "metadata": {
        "id": "7kHK7eTIBAbk"
      },
      "outputs": [],
      "source": [
        "import pandas as pd\n",
        "\n",
        "# Load data with only the necessary columns\n",
        "train_df = pd.read_csv('hahackathon data/train.csv', usecols = ['text','humor_rating','offense_rating'])\n",
        "test_df = pd.read_csv('hahackathon data/test.csv', usecols = ['text','humor_rating','offense_rating'])\n",
        "\n",
        "# Drop the Nans\n",
        "train_df = train_df.dropna()\n",
        "test_df = test_df.dropna()"
      ]
    },
    {
      "cell_type": "markdown",
      "metadata": {
        "id": "x54kpiRejuQd"
      },
      "source": [
        "Let's check a couple of examples."
      ]
    },
    {
      "cell_type": "code",
      "execution_count": 8,
      "metadata": {
        "id": "GRSqyozoERV7",
        "colab": {
          "base_uri": "https://localhost:8080/",
          "height": 424
        },
        "outputId": "bb27f3da-ddee-40b4-fe84-e531b130c758"
      },
      "outputs": [
        {
          "output_type": "execute_result",
          "data": {
            "text/plain": [
              "                                                   text  humor_rating  \\\n",
              "0     TENNESSEE: We're the best state. Nobody even c...          2.42   \n",
              "1     A man inserted an advertisement in the classif...          2.50   \n",
              "2     How many men does it take to open a can of bee...          1.95   \n",
              "3     Told my mom I hit 1200 Twitter followers. She ...          2.11   \n",
              "4     Roses are dead. Love is fake. Weddings are bas...          2.78   \n",
              "...                                                 ...           ...   \n",
              "7991  Sins are like viruses, it's better you keep th...          2.13   \n",
              "7993  My daughter wanted a Cinderella themed birthda...          3.70   \n",
              "7996    Why are aspirins white? Because they work sorry          1.33   \n",
              "7997  Today, we Americans celebrate our independence...          2.55   \n",
              "7998  How to keep the flies off the bride at an Ital...          1.00   \n",
              "\n",
              "      offense_rating  \n",
              "0               0.20  \n",
              "1               1.10  \n",
              "2               2.40  \n",
              "3               0.00  \n",
              "4               0.10  \n",
              "...              ...  \n",
              "7991            0.10  \n",
              "7993            0.00  \n",
              "7996            3.85  \n",
              "7997            0.00  \n",
              "7998            3.00  \n",
              "\n",
              "[4932 rows x 3 columns]"
            ],
            "text/html": [
              "\n",
              "  <div id=\"df-9d15fd06-85ed-4617-8244-d10609c612c8\" class=\"colab-df-container\">\n",
              "    <div>\n",
              "<style scoped>\n",
              "    .dataframe tbody tr th:only-of-type {\n",
              "        vertical-align: middle;\n",
              "    }\n",
              "\n",
              "    .dataframe tbody tr th {\n",
              "        vertical-align: top;\n",
              "    }\n",
              "\n",
              "    .dataframe thead th {\n",
              "        text-align: right;\n",
              "    }\n",
              "</style>\n",
              "<table border=\"1\" class=\"dataframe\">\n",
              "  <thead>\n",
              "    <tr style=\"text-align: right;\">\n",
              "      <th></th>\n",
              "      <th>text</th>\n",
              "      <th>humor_rating</th>\n",
              "      <th>offense_rating</th>\n",
              "    </tr>\n",
              "  </thead>\n",
              "  <tbody>\n",
              "    <tr>\n",
              "      <th>0</th>\n",
              "      <td>TENNESSEE: We're the best state. Nobody even c...</td>\n",
              "      <td>2.42</td>\n",
              "      <td>0.20</td>\n",
              "    </tr>\n",
              "    <tr>\n",
              "      <th>1</th>\n",
              "      <td>A man inserted an advertisement in the classif...</td>\n",
              "      <td>2.50</td>\n",
              "      <td>1.10</td>\n",
              "    </tr>\n",
              "    <tr>\n",
              "      <th>2</th>\n",
              "      <td>How many men does it take to open a can of bee...</td>\n",
              "      <td>1.95</td>\n",
              "      <td>2.40</td>\n",
              "    </tr>\n",
              "    <tr>\n",
              "      <th>3</th>\n",
              "      <td>Told my mom I hit 1200 Twitter followers. She ...</td>\n",
              "      <td>2.11</td>\n",
              "      <td>0.00</td>\n",
              "    </tr>\n",
              "    <tr>\n",
              "      <th>4</th>\n",
              "      <td>Roses are dead. Love is fake. Weddings are bas...</td>\n",
              "      <td>2.78</td>\n",
              "      <td>0.10</td>\n",
              "    </tr>\n",
              "    <tr>\n",
              "      <th>...</th>\n",
              "      <td>...</td>\n",
              "      <td>...</td>\n",
              "      <td>...</td>\n",
              "    </tr>\n",
              "    <tr>\n",
              "      <th>7991</th>\n",
              "      <td>Sins are like viruses, it's better you keep th...</td>\n",
              "      <td>2.13</td>\n",
              "      <td>0.10</td>\n",
              "    </tr>\n",
              "    <tr>\n",
              "      <th>7993</th>\n",
              "      <td>My daughter wanted a Cinderella themed birthda...</td>\n",
              "      <td>3.70</td>\n",
              "      <td>0.00</td>\n",
              "    </tr>\n",
              "    <tr>\n",
              "      <th>7996</th>\n",
              "      <td>Why are aspirins white? Because they work sorry</td>\n",
              "      <td>1.33</td>\n",
              "      <td>3.85</td>\n",
              "    </tr>\n",
              "    <tr>\n",
              "      <th>7997</th>\n",
              "      <td>Today, we Americans celebrate our independence...</td>\n",
              "      <td>2.55</td>\n",
              "      <td>0.00</td>\n",
              "    </tr>\n",
              "    <tr>\n",
              "      <th>7998</th>\n",
              "      <td>How to keep the flies off the bride at an Ital...</td>\n",
              "      <td>1.00</td>\n",
              "      <td>3.00</td>\n",
              "    </tr>\n",
              "  </tbody>\n",
              "</table>\n",
              "<p>4932 rows × 3 columns</p>\n",
              "</div>\n",
              "    <div class=\"colab-df-buttons\">\n",
              "\n",
              "  <div class=\"colab-df-container\">\n",
              "    <button class=\"colab-df-convert\" onclick=\"convertToInteractive('df-9d15fd06-85ed-4617-8244-d10609c612c8')\"\n",
              "            title=\"Convert this dataframe to an interactive table.\"\n",
              "            style=\"display:none;\">\n",
              "\n",
              "  <svg xmlns=\"http://www.w3.org/2000/svg\" height=\"24px\" viewBox=\"0 -960 960 960\">\n",
              "    <path d=\"M120-120v-720h720v720H120Zm60-500h600v-160H180v160Zm220 220h160v-160H400v160Zm0 220h160v-160H400v160ZM180-400h160v-160H180v160Zm440 0h160v-160H620v160ZM180-180h160v-160H180v160Zm440 0h160v-160H620v160Z\"/>\n",
              "  </svg>\n",
              "    </button>\n",
              "\n",
              "  <style>\n",
              "    .colab-df-container {\n",
              "      display:flex;\n",
              "      gap: 12px;\n",
              "    }\n",
              "\n",
              "    .colab-df-convert {\n",
              "      background-color: #E8F0FE;\n",
              "      border: none;\n",
              "      border-radius: 50%;\n",
              "      cursor: pointer;\n",
              "      display: none;\n",
              "      fill: #1967D2;\n",
              "      height: 32px;\n",
              "      padding: 0 0 0 0;\n",
              "      width: 32px;\n",
              "    }\n",
              "\n",
              "    .colab-df-convert:hover {\n",
              "      background-color: #E2EBFA;\n",
              "      box-shadow: 0px 1px 2px rgba(60, 64, 67, 0.3), 0px 1px 3px 1px rgba(60, 64, 67, 0.15);\n",
              "      fill: #174EA6;\n",
              "    }\n",
              "\n",
              "    .colab-df-buttons div {\n",
              "      margin-bottom: 4px;\n",
              "    }\n",
              "\n",
              "    [theme=dark] .colab-df-convert {\n",
              "      background-color: #3B4455;\n",
              "      fill: #D2E3FC;\n",
              "    }\n",
              "\n",
              "    [theme=dark] .colab-df-convert:hover {\n",
              "      background-color: #434B5C;\n",
              "      box-shadow: 0px 1px 3px 1px rgba(0, 0, 0, 0.15);\n",
              "      filter: drop-shadow(0px 1px 2px rgba(0, 0, 0, 0.3));\n",
              "      fill: #FFFFFF;\n",
              "    }\n",
              "  </style>\n",
              "\n",
              "    <script>\n",
              "      const buttonEl =\n",
              "        document.querySelector('#df-9d15fd06-85ed-4617-8244-d10609c612c8 button.colab-df-convert');\n",
              "      buttonEl.style.display =\n",
              "        google.colab.kernel.accessAllowed ? 'block' : 'none';\n",
              "\n",
              "      async function convertToInteractive(key) {\n",
              "        const element = document.querySelector('#df-9d15fd06-85ed-4617-8244-d10609c612c8');\n",
              "        const dataTable =\n",
              "          await google.colab.kernel.invokeFunction('convertToInteractive',\n",
              "                                                    [key], {});\n",
              "        if (!dataTable) return;\n",
              "\n",
              "        const docLinkHtml = 'Like what you see? Visit the ' +\n",
              "          '<a target=\"_blank\" href=https://colab.research.google.com/notebooks/data_table.ipynb>data table notebook</a>'\n",
              "          + ' to learn more about interactive tables.';\n",
              "        element.innerHTML = '';\n",
              "        dataTable['output_type'] = 'display_data';\n",
              "        await google.colab.output.renderOutput(dataTable, element);\n",
              "        const docLink = document.createElement('div');\n",
              "        docLink.innerHTML = docLinkHtml;\n",
              "        element.appendChild(docLink);\n",
              "      }\n",
              "    </script>\n",
              "  </div>\n",
              "\n",
              "\n",
              "<div id=\"df-18e9425b-324b-4b26-81c2-6b41db1b00ea\">\n",
              "  <button class=\"colab-df-quickchart\" onclick=\"quickchart('df-18e9425b-324b-4b26-81c2-6b41db1b00ea')\"\n",
              "            title=\"Suggest charts\"\n",
              "            style=\"display:none;\">\n",
              "\n",
              "<svg xmlns=\"http://www.w3.org/2000/svg\" height=\"24px\"viewBox=\"0 0 24 24\"\n",
              "     width=\"24px\">\n",
              "    <g>\n",
              "        <path d=\"M19 3H5c-1.1 0-2 .9-2 2v14c0 1.1.9 2 2 2h14c1.1 0 2-.9 2-2V5c0-1.1-.9-2-2-2zM9 17H7v-7h2v7zm4 0h-2V7h2v10zm4 0h-2v-4h2v4z\"/>\n",
              "    </g>\n",
              "</svg>\n",
              "  </button>\n",
              "\n",
              "<style>\n",
              "  .colab-df-quickchart {\n",
              "      --bg-color: #E8F0FE;\n",
              "      --fill-color: #1967D2;\n",
              "      --hover-bg-color: #E2EBFA;\n",
              "      --hover-fill-color: #174EA6;\n",
              "      --disabled-fill-color: #AAA;\n",
              "      --disabled-bg-color: #DDD;\n",
              "  }\n",
              "\n",
              "  [theme=dark] .colab-df-quickchart {\n",
              "      --bg-color: #3B4455;\n",
              "      --fill-color: #D2E3FC;\n",
              "      --hover-bg-color: #434B5C;\n",
              "      --hover-fill-color: #FFFFFF;\n",
              "      --disabled-bg-color: #3B4455;\n",
              "      --disabled-fill-color: #666;\n",
              "  }\n",
              "\n",
              "  .colab-df-quickchart {\n",
              "    background-color: var(--bg-color);\n",
              "    border: none;\n",
              "    border-radius: 50%;\n",
              "    cursor: pointer;\n",
              "    display: none;\n",
              "    fill: var(--fill-color);\n",
              "    height: 32px;\n",
              "    padding: 0;\n",
              "    width: 32px;\n",
              "  }\n",
              "\n",
              "  .colab-df-quickchart:hover {\n",
              "    background-color: var(--hover-bg-color);\n",
              "    box-shadow: 0 1px 2px rgba(60, 64, 67, 0.3), 0 1px 3px 1px rgba(60, 64, 67, 0.15);\n",
              "    fill: var(--button-hover-fill-color);\n",
              "  }\n",
              "\n",
              "  .colab-df-quickchart-complete:disabled,\n",
              "  .colab-df-quickchart-complete:disabled:hover {\n",
              "    background-color: var(--disabled-bg-color);\n",
              "    fill: var(--disabled-fill-color);\n",
              "    box-shadow: none;\n",
              "  }\n",
              "\n",
              "  .colab-df-spinner {\n",
              "    border: 2px solid var(--fill-color);\n",
              "    border-color: transparent;\n",
              "    border-bottom-color: var(--fill-color);\n",
              "    animation:\n",
              "      spin 1s steps(1) infinite;\n",
              "  }\n",
              "\n",
              "  @keyframes spin {\n",
              "    0% {\n",
              "      border-color: transparent;\n",
              "      border-bottom-color: var(--fill-color);\n",
              "      border-left-color: var(--fill-color);\n",
              "    }\n",
              "    20% {\n",
              "      border-color: transparent;\n",
              "      border-left-color: var(--fill-color);\n",
              "      border-top-color: var(--fill-color);\n",
              "    }\n",
              "    30% {\n",
              "      border-color: transparent;\n",
              "      border-left-color: var(--fill-color);\n",
              "      border-top-color: var(--fill-color);\n",
              "      border-right-color: var(--fill-color);\n",
              "    }\n",
              "    40% {\n",
              "      border-color: transparent;\n",
              "      border-right-color: var(--fill-color);\n",
              "      border-top-color: var(--fill-color);\n",
              "    }\n",
              "    60% {\n",
              "      border-color: transparent;\n",
              "      border-right-color: var(--fill-color);\n",
              "    }\n",
              "    80% {\n",
              "      border-color: transparent;\n",
              "      border-right-color: var(--fill-color);\n",
              "      border-bottom-color: var(--fill-color);\n",
              "    }\n",
              "    90% {\n",
              "      border-color: transparent;\n",
              "      border-bottom-color: var(--fill-color);\n",
              "    }\n",
              "  }\n",
              "</style>\n",
              "\n",
              "  <script>\n",
              "    async function quickchart(key) {\n",
              "      const quickchartButtonEl =\n",
              "        document.querySelector('#' + key + ' button');\n",
              "      quickchartButtonEl.disabled = true;  // To prevent multiple clicks.\n",
              "      quickchartButtonEl.classList.add('colab-df-spinner');\n",
              "      try {\n",
              "        const charts = await google.colab.kernel.invokeFunction(\n",
              "            'suggestCharts', [key], {});\n",
              "      } catch (error) {\n",
              "        console.error('Error during call to suggestCharts:', error);\n",
              "      }\n",
              "      quickchartButtonEl.classList.remove('colab-df-spinner');\n",
              "      quickchartButtonEl.classList.add('colab-df-quickchart-complete');\n",
              "    }\n",
              "    (() => {\n",
              "      let quickchartButtonEl =\n",
              "        document.querySelector('#df-18e9425b-324b-4b26-81c2-6b41db1b00ea button');\n",
              "      quickchartButtonEl.style.display =\n",
              "        google.colab.kernel.accessAllowed ? 'block' : 'none';\n",
              "    })();\n",
              "  </script>\n",
              "</div>\n",
              "    </div>\n",
              "  </div>\n"
            ],
            "application/vnd.google.colaboratory.intrinsic+json": {
              "type": "dataframe",
              "variable_name": "train_df",
              "summary": "{\n  \"name\": \"train_df\",\n  \"rows\": 4932,\n  \"fields\": [\n    {\n      \"column\": \"text\",\n      \"properties\": {\n        \"dtype\": \"string\",\n        \"num_unique_values\": 4932,\n        \"samples\": [\n          \"So my girlfriend just told me that she needed velocity... Well, her exact words were \\\"time and distance\\\" but I knew what she meant.\",\n          \"When I found out my toaster wasn't waterproof.... I was shocked.\",\n          \"I like when the shoe salesman puts the shoe on for me. I am 85% more likely to buy new shoes if I feel like Cinderella.\"\n        ],\n        \"semantic_type\": \"\",\n        \"description\": \"\"\n      }\n    },\n    {\n      \"column\": \"humor_rating\",\n      \"properties\": {\n        \"dtype\": \"number\",\n        \"std\": 0.566973939757289,\n        \"min\": 0.1,\n        \"max\": 4.0,\n        \"num_unique_values\": 253,\n        \"samples\": [\n          0.6,\n          2.2,\n          2.15\n        ],\n        \"semantic_type\": \"\",\n        \"description\": \"\"\n      }\n    },\n    {\n      \"column\": \"offense_rating\",\n      \"properties\": {\n        \"dtype\": \"number\",\n        \"std\": 1.1292485025906716,\n        \"min\": 0.0,\n        \"max\": 4.85,\n        \"num_unique_values\": 98,\n        \"samples\": [\n          3.7,\n          2.5,\n          4.8\n        ],\n        \"semantic_type\": \"\",\n        \"description\": \"\"\n      }\n    }\n  ]\n}"
            }
          },
          "metadata": {},
          "execution_count": 8
        }
      ],
      "source": [
        "train_df"
      ]
    },
    {
      "cell_type": "code",
      "execution_count": 9,
      "metadata": {
        "id": "AO-g6KuyBAWG"
      },
      "outputs": [],
      "source": [
        "# Get the post text\n",
        "train_examples_list = train_df['text'].tolist()\n",
        "test_examples_list = test_df['text'].tolist()\n",
        "\n",
        "# Get the humour rating for the regression task (we normalise, the values are between 0 and 5)\n",
        "train_targets_list = (train_df['humor_rating']/5).tolist()\n",
        "test_targets_list = (test_df['humor_rating']/5).tolist()"
      ]
    },
    {
      "cell_type": "code",
      "execution_count": 10,
      "metadata": {
        "id": "DTg5t7uvtdkd"
      },
      "outputs": [],
      "source": [
        "def get_bert_inputs(examples_list, targets):\n",
        "  input_ids=list()\n",
        "  attention_masks=list()\n",
        "\n",
        "  bert_inp=tokenize(examples_list, tokenizer)\n",
        "  input_ids = bert_inp[0]\n",
        "  attention_masks = bert_inp[1]\n",
        "\n",
        "  targets = np.array(targets)\n",
        "\n",
        "  return input_ids, attention_masks, targets\n",
        "\n",
        "train_input_ids, train_attention_masks, train_targets = get_bert_inputs(train_examples_list, train_targets_list)\n",
        "test_input_ids, test_attention_masks, test_targets = get_bert_inputs(test_examples_list, test_targets_list)\n"
      ]
    },
    {
      "cell_type": "markdown",
      "metadata": {
        "id": "7oNjOY4rl6WR"
      },
      "source": [
        "**Task 1: Build a neural bag of words model using DistilBERT embeddings and the sigmoid activation on the output layer for the regression task.**\n",
        "\n",
        "Investigate its performance using the Mean Squared Error (MSE) metric. We will use this metric as the loss function as well. We will also use the Adam optimiser with `learning_rate=2e-5`. This code is already provided.\n",
        "\n",
        "*Hint*: You can reuse the code from Lab 6 on Transfer Learning (Model 2)."
      ]
    },
    {
      "cell_type": "code",
      "execution_count": 15,
      "metadata": {
        "id": "ALw1nMjNKTgn",
        "colab": {
          "base_uri": "https://localhost:8080/"
        },
        "outputId": "3d629d34-93ba-490a-9bfc-79f700a4c242"
      },
      "outputs": [
        {
          "output_type": "stream",
          "name": "stderr",
          "text": [
            "WARNING:tensorflow:TPU system grpc://10.56.40.194:8470 has already been initialized. Reinitializing the TPU can cause previously created variables on TPU to be lost.\n",
            "Some weights of the PyTorch model were not used when initializing the TF 2.0 model TFDistilBertModel: ['vocab_transform.weight', 'vocab_layer_norm.bias', 'vocab_layer_norm.weight', 'vocab_transform.bias', 'vocab_projector.bias']\n",
            "- This IS expected if you are initializing TFDistilBertModel from a PyTorch model trained on another task or with another architecture (e.g. initializing a TFBertForSequenceClassification model from a BertForPreTraining model).\n",
            "- This IS NOT expected if you are initializing TFDistilBertModel from a PyTorch model that you expect to be exactly identical (e.g. initializing a TFBertForSequenceClassification model from a BertForSequenceClassification model).\n",
            "All the weights of TFDistilBertModel were initialized from the PyTorch model.\n",
            "If your task is similar to the task the model of the checkpoint was trained on, you can already use TFDistilBertModel for predictions without further training.\n"
          ]
        }
      ],
      "source": [
        "from transformers import TFDistilBertModel, DistilBertConfig\n",
        "import tensorflow as tf\n",
        "\n",
        "\n",
        "class GlobalAveragePooling1DMasked(GlobalAveragePooling1D):\n",
        "    def call(self, x, mask=None):\n",
        "        if mask is not None:\n",
        "            # Casting the mask to float32 to match the data type of `x`\n",
        "            mask = tf.cast(mask, tf.float32)\n",
        "            return K.sum(x, axis=1) / K.sum(mask, axis=1, keepdims=True)\n",
        "        else:\n",
        "            return super().call(x)\n",
        "\n",
        "def get_BERT_layer():\n",
        "  distil_bert = 'distilbert-base-uncased'\n",
        "  config = DistilBertConfig(dropout=0.2, attention_dropout=0.2)\n",
        "  config.output_hidden_states = False\n",
        "\n",
        "  return TFDistilBertModel.from_pretrained(distil_bert, config = config)\n",
        "\n",
        "def create_regression_BoW_bert():\n",
        "    distilBERT = get_BERT_layer()\n",
        "    input_ids = Input(shape=(None,), dtype=tf.int32, name=\"input_ids\")\n",
        "    input_masks_ids = Input(shape=(None,), dtype=tf.int32, name=\"attention_mask\")\n",
        "\n",
        "    # Extracting the sequence output and ignoring the pooled output\n",
        "    distilBERT_output = distilBERT(input_ids, attention_mask=input_masks_ids)\n",
        "    sequence_output = distilBERT_output.last_hidden_state\n",
        "\n",
        "    # Applying the masked global average pooling\n",
        "    x = GlobalAveragePooling1DMasked()(sequence_output, mask=input_masks_ids)\n",
        "\n",
        "    # Regression output layer with sigmoid activation\n",
        "    out_reg = Dense(1, activation='sigmoid')(x)\n",
        "\n",
        "    return tf.keras.Model(inputs=[input_ids, input_masks_ids], outputs=[out_reg])\n",
        "\n",
        "def get_model(use_tpu=True, use_gpu=False, learning_rate=2e-5):\n",
        "  if use_tpu:\n",
        "    # Create distribution strategy\n",
        "    tpu = tf.distribute.cluster_resolver.TPUClusterResolver()\n",
        "    tf.config.experimental_connect_to_cluster(tpu)\n",
        "    tf.tpu.experimental.initialize_tpu_system(tpu)\n",
        "    strategy = tf.distribute.TPUStrategy(tpu)\n",
        "\n",
        "    # Create model on TPU:\n",
        "    with strategy.scope():\n",
        "      model = create_regression_BoW_bert()\n",
        "      optimizer = tf.keras.optimizers.Adam(learning_rate=learning_rate)\n",
        "      model.compile(optimizer=optimizer, loss='mse', metrics=[tf.keras.losses.MeanSquaredError()])\n",
        "  elif use_gpu:\n",
        "    device_name = tf.test.gpu_device_name()\n",
        "    print(device_name)\n",
        "    with tf.device('/device:GPU:0'):\n",
        "      model = create_regression_BoW_bert()\n",
        "      optimizer = tf.keras.optimizers.Adam(learning_rate=learning_rate)\n",
        "      model.compile(optimizer=optimizer, loss='mse', metrics=[tf.keras.losses.MeanSquaredError()])\n",
        "  else:\n",
        "    model = create_regression_BoW_bert()\n",
        "    model.compile(optimizer='adam',\n",
        "                loss='mse',\n",
        "                metrics=[tf.keras.losses.MeanSquaredError()])\n",
        "  return model\n",
        "\n",
        "\n",
        "model = get_model()"
      ]
    },
    {
      "cell_type": "code",
      "execution_count": 16,
      "metadata": {
        "id": "wpoibWdGQJA-",
        "colab": {
          "base_uri": "https://localhost:8080/"
        },
        "outputId": "0764bb69-9f8d-4ae9-febd-c7f28379912c"
      },
      "outputs": [
        {
          "output_type": "stream",
          "name": "stdout",
          "text": [
            "Model: \"model_1\"\n",
            "__________________________________________________________________________________________________\n",
            " Layer (type)                   Output Shape         Param #     Connected to                     \n",
            "==================================================================================================\n",
            " input_ids (InputLayer)         [(None, None)]       0           []                               \n",
            "                                                                                                  \n",
            " attention_mask (InputLayer)    [(None, None)]       0           []                               \n",
            "                                                                                                  \n",
            " tf_distil_bert_model_2 (TFDist  TFBaseModelOutput(l  66362880   ['input_ids[0][0]',              \n",
            " ilBertModel)                   ast_hidden_state=(N               'attention_mask[0][0]']         \n",
            "                                one, None, 768),                                                  \n",
            "                                 hidden_states=None                                               \n",
            "                                , attentions=None)                                                \n",
            "                                                                                                  \n",
            " global_average_pooling1d_maske  (None, 768)         0           ['tf_distil_bert_model_2[0][0]', \n",
            " d_2 (GlobalAveragePooling1DMas                                   'attention_mask[0][0]']         \n",
            " ked)                                                                                             \n",
            "                                                                                                  \n",
            " dense_1 (Dense)                (None, 1)            769         ['global_average_pooling1d_masked\n",
            "                                                                 _2[0][0]']                       \n",
            "                                                                                                  \n",
            "==================================================================================================\n",
            "Total params: 66,363,649\n",
            "Trainable params: 66,363,649\n",
            "Non-trainable params: 0\n",
            "__________________________________________________________________________________________________\n"
          ]
        }
      ],
      "source": [
        "model.summary()"
      ]
    },
    {
      "cell_type": "code",
      "execution_count": 17,
      "metadata": {
        "id": "FHz1pJyV50cM",
        "colab": {
          "base_uri": "https://localhost:8080/"
        },
        "outputId": "36b86ad6-729b-404f-9b33-cccaba92d688"
      },
      "outputs": [
        {
          "output_type": "stream",
          "name": "stdout",
          "text": [
            "Epoch 1/10\n",
            "10/10 [==============================] - 82s 3s/step - loss: 0.0626 - mean_squared_error: 0.0620\n",
            "Epoch 2/10\n",
            "10/10 [==============================] - 2s 181ms/step - loss: 0.0307 - mean_squared_error: 0.0305\n",
            "Epoch 3/10\n",
            "10/10 [==============================] - 2s 180ms/step - loss: 0.0197 - mean_squared_error: 0.0197\n",
            "Epoch 4/10\n",
            "10/10 [==============================] - 2s 186ms/step - loss: 0.0163 - mean_squared_error: 0.0162\n",
            "Epoch 5/10\n",
            "10/10 [==============================] - 2s 181ms/step - loss: 0.0137 - mean_squared_error: 0.0137\n",
            "Epoch 6/10\n",
            "10/10 [==============================] - 2s 180ms/step - loss: 0.0128 - mean_squared_error: 0.0128\n",
            "Epoch 7/10\n",
            "10/10 [==============================] - 2s 184ms/step - loss: 0.0118 - mean_squared_error: 0.0117\n",
            "Epoch 8/10\n",
            "10/10 [==============================] - 2s 180ms/step - loss: 0.0114 - mean_squared_error: 0.0114\n",
            "Epoch 9/10\n",
            "10/10 [==============================] - 2s 183ms/step - loss: 0.0108 - mean_squared_error: 0.0108\n",
            "Epoch 10/10\n",
            "10/10 [==============================] - 2s 181ms/step - loss: 0.0107 - mean_squared_error: 0.0106\n"
          ]
        }
      ],
      "source": [
        "history = model.fit([train_input_ids, train_attention_masks],\n",
        "                    train_targets,\n",
        "                    epochs=EPOCHS,\n",
        "                    batch_size=BATCH_SIZE,\n",
        "                    verbose=1)"
      ]
    },
    {
      "cell_type": "markdown",
      "metadata": {
        "id": "ILYZoU8bDskk"
      },
      "source": [
        "We evaluate our model on the test set."
      ]
    },
    {
      "cell_type": "code",
      "execution_count": 18,
      "metadata": {
        "id": "3C75iSsedcRX",
        "colab": {
          "base_uri": "https://localhost:8080/"
        },
        "outputId": "313a9cb7-bc2d-404e-cee4-e36c84c3ff82"
      },
      "outputs": [
        {
          "output_type": "stream",
          "name": "stdout",
          "text": [
            "20/20 [==============================] - 9s 134ms/step - loss: 0.0154 - mean_squared_error: 0.0150\n",
            "Test loss: 0.015424900688230991\n",
            "Test MSE: 0.01498374156653881\n"
          ]
        }
      ],
      "source": [
        "results = model.evaluate([test_input_ids,test_attention_masks], test_targets)\n",
        "print('Test loss:', results[0])\n",
        "print('Test MSE:', results[1])"
      ]
    },
    {
      "cell_type": "markdown",
      "metadata": {
        "id": "aa0sSeJE0UwU"
      },
      "source": [
        "Get the array of predictions here so that you can plot the outputs later."
      ]
    },
    {
      "cell_type": "code",
      "execution_count": 19,
      "metadata": {
        "id": "OpXK5mAs38US",
        "colab": {
          "base_uri": "https://localhost:8080/"
        },
        "outputId": "afddf569-51e0-438f-87aa-597e50676a6f"
      },
      "outputs": [
        {
          "output_type": "stream",
          "name": "stdout",
          "text": [
            "20/20 [==============================] - 9s 294ms/step\n"
          ]
        }
      ],
      "source": [
        "preds = model.predict(\n",
        "      [test_input_ids,test_attention_masks],\n",
        "      batch_size=None,\n",
        "      verbose=\"auto\",\n",
        "      steps=None,\n",
        "      callbacks=None,\n",
        "      max_queue_size=10,\n",
        "      workers=1,\n",
        "      use_multiprocessing=False)\n",
        "\n",
        "preds = np.array(preds).flatten()"
      ]
    },
    {
      "cell_type": "markdown",
      "metadata": {
        "id": "_ll2c9dIPFdQ"
      },
      "source": [
        "## Predictive Distribution\n",
        "\n",
        "We compute min, max and mean for the golden and predicted humour ratings."
      ]
    },
    {
      "cell_type": "code",
      "execution_count": 20,
      "metadata": {
        "id": "M9h_-3pxdNM9",
        "colab": {
          "base_uri": "https://localhost:8080/"
        },
        "outputId": "a2d6bae6-d2ca-42bd-c4c6-cddea348989b"
      },
      "outputs": [
        {
          "output_type": "execute_result",
          "data": {
            "text/plain": [
              "(0.24266088, 0.66814435, 0.4771863)"
            ]
          },
          "metadata": {},
          "execution_count": 20
        }
      ],
      "source": [
        "min(preds), max(preds), preds.mean()"
      ]
    },
    {
      "cell_type": "code",
      "execution_count": 21,
      "metadata": {
        "id": "Op_zenYZFNm8",
        "colab": {
          "base_uri": "https://localhost:8080/"
        },
        "outputId": "13b0aa1c-3651-4802-cbde-691cb1e621a7"
      },
      "outputs": [
        {
          "output_type": "execute_result",
          "data": {
            "text/plain": [
              "(0.054000000000000006, 0.6839999999999999, 0.42383414634146344)"
            ]
          },
          "metadata": {},
          "execution_count": 21
        }
      ],
      "source": [
        "min(test_targets), max(test_targets), test_targets.mean()"
      ]
    },
    {
      "cell_type": "code",
      "execution_count": 22,
      "metadata": {
        "id": "7KO14nTkFUvq",
        "colab": {
          "base_uri": "https://localhost:8080/",
          "height": 448
        },
        "outputId": "9c2285c0-49c2-4fe7-b0c1-3dd5008f5924"
      },
      "outputs": [
        {
          "output_type": "execute_result",
          "data": {
            "text/plain": [
              "<Axes: >"
            ]
          },
          "metadata": {},
          "execution_count": 22
        },
        {
          "output_type": "display_data",
          "data": {
            "text/plain": [
              "<Figure size 640x480 with 1 Axes>"
            ],
            "image/png": "[encoded data removed]"
          },
          "metadata": {}
        }
      ],
      "source": [
        "pd.Series(preds).hist()"
      ]
    },
    {
      "cell_type": "code",
      "execution_count": 23,
      "metadata": {
        "id": "OuRkmr0HPFdR",
        "colab": {
          "base_uri": "https://localhost:8080/",
          "height": 448
        },
        "outputId": "c1a58eb9-54d2-4a1d-a913-63bd37e18062"
      },
      "outputs": [
        {
          "output_type": "execute_result",
          "data": {
            "text/plain": [
              "<Axes: >"
            ]
          },
          "metadata": {},
          "execution_count": 23
        },
        {
          "output_type": "display_data",
          "data": {
            "text/plain": [
              "<Figure size 640x480 with 1 Axes>"
            ],
            "image/png": "[encoded data removed]"
          },
          "metadata": {}
        }
      ],
      "source": [
        "pd.Series(test_targets).hist()"
      ]
    },
    {
      "cell_type": "markdown",
      "metadata": {
        "id": "rt8ufAjVFjCf"
      },
      "source": [
        "Next, we plot the true vs predicted humour grade for our model."
      ]
    },
    {
      "cell_type": "code",
      "execution_count": 24,
      "metadata": {
        "id": "YkTird8tFxrY",
        "colab": {
          "base_uri": "https://localhost:8080/",
          "height": 695
        },
        "outputId": "a671b7b2-b48e-4a2d-de3f-52aa657d9701"
      },
      "outputs": [
        {
          "output_type": "display_data",
          "data": {
            "text/plain": [
              "<Figure size 960x720 with 1 Axes>"
            ],
            "image/png": "[encoded data removed]"
          },
          "metadata": {}
        }
      ],
      "source": [
        "import seaborn as sns\n",
        "import matplotlib.pyplot as plt\n",
        "def get_pred_true_plot(preds, labels, title):\n",
        "    limits = [labels.min(), labels.max()]\n",
        "    fig, ax = plt.subplots()\n",
        "    fig.set_dpi(150)\n",
        "    ax.set_title(title)\n",
        "    ax.scatter(labels, preds, marker='.')\n",
        "    ax.plot(limits, limits, color=\"gray\", linestyle=\":\")\n",
        "    ax.set_xlabel('True Humour Grade')\n",
        "    ax.set_ylabel('Predicted Humour Grade')\n",
        "    sns.regplot(x=labels, y=preds, ax=ax, scatter_kws={\"s\": 5})\n",
        "    plt.show()\n",
        "\n",
        "get_pred_true_plot(preds, test_targets, 'True vs Predicted Humour Grade for DistilBERT Model')"
      ]
    },
    {
      "cell_type": "markdown",
      "metadata": {
        "id": "ves524STEEeR"
      },
      "source": [
        "Our regressor tends to smooth down the extreme rating values to make them closer to the mean."
      ]
    },
    {
      "cell_type": "markdown",
      "metadata": {
        "id": "-LS3Oox93a4x"
      },
      "source": [
        "# Feature Engineering & Data Augmentation\n",
        "\n",
        "**Task 2: Preprocess the textual data with the Ekphrasis library following the standard pipeline https://github.com/cbaziotis/ekphrasis#text-pre-processing-pipeline. How does this affect the performance?**"
      ]
    },
    {
      "cell_type": "markdown",
      "metadata": {
        "id": "ZOhLQtu_HZgq"
      },
      "source": [
        "*Hint*: You might not want to annotate terms in order to keep the same length of the input sentences (for this, do not use the parameter `annotate={\"hashtag\", \"allcaps\", \"elongated\", \"repeated\", 'emphasis', 'censored'}`)."
      ]
    },
    {
      "cell_type": "code",
      "execution_count": 25,
      "metadata": {
        "id": "oTVPfG-43ZSe",
        "colab": {
          "base_uri": "https://localhost:8080/"
        },
        "outputId": "e3cff21d-abfd-4a80-9b89-69dc4d832c20"
      },
      "outputs": [
        {
          "output_type": "stream",
          "name": "stdout",
          "text": [
            "\u001b[2K     \u001b[90m━━━━━━━━━━━━━━━━━━━━━━━━━━━━━━━━━━━━━━━━\u001b[0m \u001b[32m83.8/83.8 kB\u001b[0m \u001b[31m1.2 MB/s\u001b[0m eta \u001b[36m0:00:00\u001b[0m\n",
            "\u001b[2K     \u001b[90m━━━━━━━━━━━━━━━━━━━━━━━━━━━━━━━━━━━━━━━━\u001b[0m \u001b[32m53.2/53.2 kB\u001b[0m \u001b[31m4.1 MB/s\u001b[0m eta \u001b[36m0:00:00\u001b[0m\n",
            "\u001b[2K     \u001b[90m━━━━━━━━━━━━━━━━━━━━━━━━━━━━━━━━━━━━━━━━\u001b[0m \u001b[32m53.4/53.4 kB\u001b[0m \u001b[31m4.5 MB/s\u001b[0m eta \u001b[36m0:00:00\u001b[0m\n",
            "\u001b[2K     \u001b[90m━━━━━━━━━━━━━━━━━━━━━━━━━━━━━━━━━━━━━━━━\u001b[0m \u001b[32m51.0/51.0 kB\u001b[0m \u001b[31m1.1 MB/s\u001b[0m eta \u001b[36m0:00:00\u001b[0m\n",
            "\u001b[?25h  Preparing metadata (setup.py) ... \u001b[?25l\u001b[?25hdone\n",
            "  Building wheel for emoji (setup.py) ... \u001b[?25l\u001b[?25hdone\n"
          ]
        }
      ],
      "source": [
        "!pip install -q ekphrasis\n",
        "!pip3 install -q emoji==0.6.0"
      ]
    },
    {
      "cell_type": "code",
      "execution_count": 28,
      "metadata": {
        "id": "7_KBBFNn30Cp",
        "colab": {
          "base_uri": "https://localhost:8080/"
        },
        "outputId": "cf746237-54d4-435d-c977-037a5efc3204"
      },
      "outputs": [
        {
          "output_type": "stream",
          "name": "stderr",
          "text": [
            "/usr/local/lib/python3.10/dist-packages/ekphrasis/classes/tokenizer.py:225: FutureWarning: Possible nested set at position 2190\n",
            "  self.tok = re.compile(r\"({})\".format(\"|\".join(pipeline)))\n"
          ]
        },
        {
          "output_type": "stream",
          "name": "stdout",
          "text": [
            "Word statistics files not found!\n",
            "Downloading... done!\n",
            "Unpacking... done!\n",
            "Reading twitter - 1grams ...\n",
            "generating cache file for faster loading...\n",
            "reading ngrams /root/.ekphrasis/stats/twitter/counts_1grams.txt\n",
            "Reading twitter - 2grams ...\n",
            "generating cache file for faster loading...\n",
            "reading ngrams /root/.ekphrasis/stats/twitter/counts_2grams.txt\n"
          ]
        },
        {
          "output_type": "stream",
          "name": "stderr",
          "text": [
            "/usr/local/lib/python3.10/dist-packages/ekphrasis/classes/exmanager.py:14: FutureWarning: Possible nested set at position 42\n",
            "  regexes = {k.lower(): re.compile(self.expressions[k]) for k, v in\n"
          ]
        },
        {
          "output_type": "stream",
          "name": "stdout",
          "text": [
            "Reading twitter - 1grams ...\n"
          ]
        }
      ],
      "source": [
        "# Your code goes here\n",
        "from ekphrasis.classes.segmenter import Segmenter\n",
        "from ekphrasis.classes.spellcorrect import SpellCorrector\n",
        "from ekphrasis.classes.tokenizer import SocialTokenizer\n",
        "from ekphrasis.dicts.emoticons import emoticons\n",
        "\n",
        "from ekphrasis.classes.preprocessor import TextPreProcessor\n",
        "\n",
        "text_processor = TextPreProcessor(\n",
        "    # terms that will be normalized\n",
        "    normalize=['url', 'email', 'percent', 'money', 'phone', 'user',\n",
        "        'time', 'url', 'date', 'number'],\n",
        "    # terms that will be annotated\n",
        "    annotate=[],  # Remove annotations to maintain input sentence length\n",
        "    fix_html=True,  # fix HTML tokens\n",
        "\n",
        "    # corpus from which the word statistics are going to be used\n",
        "    # for word segmentation\n",
        "    segmenter=\"twitter\",\n",
        "\n",
        "    # corpus from which the word statistics are going to be used\n",
        "    # for spell correction\n",
        "    corrector=\"twitter\",\n",
        "\n",
        "    unpack_hashtags=True,  # perform word segmentation on hashtags\n",
        "    unpack_contractions=True,  # Unpack contractions (can't -> can not)\n",
        "    spell_correct_elong=False,  # don't spell-correct elongated words\n",
        "\n",
        "    # the tokenizer, should take as input a string and return a list of tokens\n",
        "    tokenizer=SocialTokenizer(lowercase=True).tokenize,\n",
        "\n",
        "    # list of dictionaries, for replacing tokens extracted from the text with other expressions\n",
        "    dicts=[emoticons]\n",
        ")\n",
        "\n",
        "new_train_examples_list = [\" \".join(text_processor.pre_process_doc(example)) for example in train_examples_list]\n",
        "new_test_examples_list = [\" \".join(text_processor.pre_process_doc(example)) for example in test_examples_list]\n"
      ]
    },
    {
      "cell_type": "code",
      "execution_count": 29,
      "metadata": {
        "id": "OgBytRATYCJl",
        "colab": {
          "base_uri": "https://localhost:8080/"
        },
        "outputId": "5b4abb6c-dae3-4858-e50a-c83adfd17c4a"
      },
      "outputs": [
        {
          "output_type": "stream",
          "name": "stdout",
          "text": [
            "Original Text: TENNESSEE: We're the best state. Nobody even comes close. *Elevennessee walks into the room* TENNESSEE: Oh shit...\n",
            "Preprocessed Text: tennessee : we are the best state . nobody even comes close . * elevennessee walks into the room * tennessee : oh shit . . .\n"
          ]
        }
      ],
      "source": [
        "print(\"Original Text:\", train_examples_list[0])\n",
        "print(\"Preprocessed Text:\", new_train_examples_list[0])"
      ]
    },
    {
      "cell_type": "code",
      "execution_count": 30,
      "metadata": {
        "id": "16Vk_2Km31pB",
        "colab": {
          "base_uri": "https://localhost:8080/"
        },
        "outputId": "779ec326-e484-4d3c-8865-9936567334c0"
      },
      "outputs": [
        {
          "output_type": "stream",
          "name": "stderr",
          "text": [
            "WARNING:tensorflow:TPU system grpc://10.56.40.194:8470 has already been initialized. Reinitializing the TPU can cause previously created variables on TPU to be lost.\n",
            "Some weights of the PyTorch model were not used when initializing the TF 2.0 model TFDistilBertModel: ['vocab_transform.weight', 'vocab_layer_norm.bias', 'vocab_layer_norm.weight', 'vocab_transform.bias', 'vocab_projector.bias']\n",
            "- This IS expected if you are initializing TFDistilBertModel from a PyTorch model trained on another task or with another architecture (e.g. initializing a TFBertForSequenceClassification model from a BertForPreTraining model).\n",
            "- This IS NOT expected if you are initializing TFDistilBertModel from a PyTorch model that you expect to be exactly identical (e.g. initializing a TFBertForSequenceClassification model from a BertForSequenceClassification model).\n",
            "All the weights of TFDistilBertModel were initialized from the PyTorch model.\n",
            "If your task is similar to the task the model of the checkpoint was trained on, you can already use TFDistilBertModel for predictions without further training.\n"
          ]
        },
        {
          "output_type": "stream",
          "name": "stdout",
          "text": [
            "Epoch 1/10\n",
            "10/10 [==============================] - 84s 3s/step - loss: 0.0971 - mean_squared_error: 0.0957\n",
            "Epoch 2/10\n",
            "10/10 [==============================] - 2s 183ms/step - loss: 0.0351 - mean_squared_error: 0.0348\n",
            "Epoch 3/10\n",
            "10/10 [==============================] - 2s 181ms/step - loss: 0.0223 - mean_squared_error: 0.0220\n",
            "Epoch 4/10\n",
            "10/10 [==============================] - 2s 184ms/step - loss: 0.0183 - mean_squared_error: 0.0183\n",
            "Epoch 5/10\n",
            "10/10 [==============================] - 2s 180ms/step - loss: 0.0143 - mean_squared_error: 0.0143\n",
            "Epoch 6/10\n",
            "10/10 [==============================] - 2s 180ms/step - loss: 0.0132 - mean_squared_error: 0.0132\n",
            "Epoch 7/10\n",
            "10/10 [==============================] - 2s 185ms/step - loss: 0.0122 - mean_squared_error: 0.0122\n",
            "Epoch 8/10\n",
            "10/10 [==============================] - 2s 182ms/step - loss: 0.0115 - mean_squared_error: 0.0116\n",
            "Epoch 9/10\n",
            "10/10 [==============================] - 2s 186ms/step - loss: 0.0112 - mean_squared_error: 0.0111\n",
            "Epoch 10/10\n",
            "10/10 [==============================] - 2s 182ms/step - loss: 0.0107 - mean_squared_error: 0.0107\n"
          ]
        }
      ],
      "source": [
        "train_input_ids, train_attention_masks, train_targets = get_bert_inputs(new_train_examples_list, train_targets_list)\n",
        "test_input_ids, test_attention_masks, test_targets = get_bert_inputs(new_test_examples_list, test_targets_list)\n",
        "\n",
        "model = get_model()\n",
        "history = model.fit([train_input_ids,train_attention_masks],\n",
        "                    train_targets,\n",
        "                    epochs=EPOCHS,\n",
        "                    batch_size=BATCH_SIZE,\n",
        "                    verbose=1)"
      ]
    },
    {
      "cell_type": "code",
      "execution_count": 31,
      "metadata": {
        "id": "Jq1skI4nLEJl",
        "colab": {
          "base_uri": "https://localhost:8080/"
        },
        "outputId": "c4b86c8d-b927-45af-c9f8-e1a0fd7f78d8"
      },
      "outputs": [
        {
          "output_type": "stream",
          "name": "stdout",
          "text": [
            "20/20 [==============================] - 10s 135ms/step - loss: 0.0141 - mean_squared_error: 0.0138\n",
            "Test loss: 0.014126833528280258\n",
            "Test MSE: 0.01384069211781025\n"
          ]
        }
      ],
      "source": [
        "results = model.evaluate([test_input_ids,test_attention_masks], test_targets)\n",
        "print('Test loss:', results[0])\n",
        "print('Test MSE:', results[1])"
      ]
    },
    {
      "cell_type": "markdown",
      "metadata": {
        "id": "DKzuPMLiQWL6"
      },
      "source": [
        "Your results may be different depending on the implementation but typically special preprocessing does not drastically change the performance for this task."
      ]
    },
    {
      "cell_type": "markdown",
      "metadata": {
        "id": "rrfXrLUm36XZ"
      },
      "source": [
        "**Task 3: Augment the training data twice by changing the original data via two methods from the Nlpaug (https://github.com/makcedward/nlpaug) library: (a) synonym replacement from WordNet; (b) deletion of random words. Comment on which method gives the best performance.**\n",
        "\n",
        "*Hint*: Use the Synonym Augmenter and Random Word Augmenter (Delete word randomly) classes as follows:\n",
        "```\n",
        "aug = naw.SynonymAug(aug_src='wordnet')\n",
        "augmented_text = aug.augment(text)\n",
        "\n",
        "aug = naw.RandomWordAug()\n",
        "augmented_text = aug.augment(text)\n",
        "```\n",
        "\n",
        "\n",
        "\n",
        "\n",
        "\n",
        "For more examples check https://github.com/makcedward/nlpaug/blob/master/example/textual_augmenter.ipynb"
      ]
    },
    {
      "cell_type": "code",
      "execution_count": 32,
      "metadata": {
        "id": "iGBjZmyj37ZA",
        "colab": {
          "base_uri": "https://localhost:8080/"
        },
        "outputId": "9caa0321-26b4-4fa7-a4a7-4378db5e4afa"
      },
      "outputs": [
        {
          "output_type": "stream",
          "name": "stdout",
          "text": [
            "Collecting nlpaug\n",
            "  Downloading nlpaug-1.1.11-py3-none-any.whl (410 kB)\n",
            "\u001b[2K     \u001b[90m━━━━━━━━━━━━━━━━━━━━━━━━━━━━━━━━━━━━━━━━\u001b[0m \u001b[32m410.5/410.5 kB\u001b[0m \u001b[31m2.9 MB/s\u001b[0m eta \u001b[36m0:00:00\u001b[0m\n",
            "\u001b[?25hRequirement already satisfied: numpy>=1.16.2 in /usr/local/lib/python3.10/dist-packages (from nlpaug) (1.23.5)\n",
            "Requirement already satisfied: pandas>=1.2.0 in /usr/local/lib/python3.10/dist-packages (from nlpaug) (1.5.3)\n",
            "Requirement already satisfied: requests>=2.22.0 in /usr/local/lib/python3.10/dist-packages (from nlpaug) (2.31.0)\n",
            "Requirement already satisfied: gdown>=4.0.0 in /usr/local/lib/python3.10/dist-packages (from nlpaug) (4.7.3)\n",
            "Requirement already satisfied: filelock in /usr/local/lib/python3.10/dist-packages (from gdown>=4.0.0->nlpaug) (3.13.1)\n",
            "Requirement already satisfied: six in /usr/local/lib/python3.10/dist-packages (from gdown>=4.0.0->nlpaug) (1.16.0)\n",
            "Requirement already satisfied: tqdm in /usr/local/lib/python3.10/dist-packages (from gdown>=4.0.0->nlpaug) (4.66.2)\n",
            "Requirement already satisfied: beautifulsoup4 in /usr/local/lib/python3.10/dist-packages (from gdown>=4.0.0->nlpaug) (4.12.3)\n",
            "Requirement already satisfied: python-dateutil>=2.8.1 in /usr/local/lib/python3.10/dist-packages (from pandas>=1.2.0->nlpaug) (2.8.2)\n",
            "Requirement already satisfied: pytz>=2020.1 in /usr/local/lib/python3.10/dist-packages (from pandas>=1.2.0->nlpaug) (2023.4)\n",
            "Requirement already satisfied: charset-normalizer<4,>=2 in /usr/local/lib/python3.10/dist-packages (from requests>=2.22.0->nlpaug) (3.3.2)\n",
            "Requirement already satisfied: idna<4,>=2.5 in /usr/local/lib/python3.10/dist-packages (from requests>=2.22.0->nlpaug) (3.6)\n",
            "Requirement already satisfied: urllib3<3,>=1.21.1 in /usr/local/lib/python3.10/dist-packages (from requests>=2.22.0->nlpaug) (2.0.7)\n",
            "Requirement already satisfied: certifi>=2017.4.17 in /usr/local/lib/python3.10/dist-packages (from requests>=2.22.0->nlpaug) (2024.2.2)\n",
            "Requirement already satisfied: soupsieve>1.2 in /usr/local/lib/python3.10/dist-packages (from beautifulsoup4->gdown>=4.0.0->nlpaug) (2.5)\n",
            "Requirement already satisfied: PySocks!=1.5.7,>=1.5.6 in /usr/local/lib/python3.10/dist-packages (from requests>=2.22.0->nlpaug) (1.7.1)\n",
            "Installing collected packages: nlpaug\n",
            "Successfully installed nlpaug-1.1.11\n"
          ]
        }
      ],
      "source": [
        "!pip install nlpaug"
      ]
    },
    {
      "cell_type": "code",
      "execution_count": 39,
      "metadata": {
        "id": "Ke50JombOY-s"
      },
      "outputs": [],
      "source": [
        "# Get the data again to apply augmentation\n",
        "train_examples_list = train_df['text'].tolist()\n",
        "train_targets_list = (train_df['humor_rating']/5).tolist()"
      ]
    },
    {
      "cell_type": "code",
      "execution_count": 40,
      "metadata": {
        "id": "Agafk2uQ39Cd"
      },
      "outputs": [],
      "source": [
        "import nlpaug.augmenter.word as naw\n",
        "\n",
        "# Your code goes here\n",
        "\n",
        "# Define augmenters\n",
        "synonym_aug = naw.SynonymAug(aug_src='wordnet')\n",
        "random_delete_aug = naw.RandomWordAug()\n",
        "\n",
        "# Augment data\n",
        "augmented_data_synonym = [synonym_aug.augment(text) for text in train_examples_list]\n",
        "augmented_data_deletion = [random_delete_aug.augment(text) for text in train_examples_list]\n"
      ]
    },
    {
      "cell_type": "code",
      "execution_count": 41,
      "metadata": {
        "id": "i4b6SkXk4Kuu"
      },
      "outputs": [],
      "source": [
        "train_input_ids, train_attention_masks, train_targets = get_bert_inputs(train_examples_list, train_targets_list)\n",
        "test_input_ids, test_attention_masks, test_targets = get_bert_inputs(test_examples_list, test_targets_list)\n"
      ]
    },
    {
      "cell_type": "markdown",
      "metadata": {
        "id": "PWrhEU4CAiUe"
      },
      "source": [
        "We have now augmented the original data twice:"
      ]
    },
    {
      "cell_type": "code",
      "execution_count": 43,
      "metadata": {
        "id": "0d1m15P3oEh-",
        "colab": {
          "base_uri": "https://localhost:8080/"
        },
        "outputId": "3a31717c-5789-4110-ec65-4f09f2298c9d"
      },
      "outputs": [
        {
          "output_type": "stream",
          "name": "stdout",
          "text": [
            "Training examples before augmentation:\n",
            "4932\n",
            "Training examples after augmentation:\n",
            "4932\n"
          ]
        }
      ],
      "source": [
        "print(\"Training examples before augmentation:\")\n",
        "print(len(train_df['text'].tolist()))\n",
        "print(\"Training examples after augmentation:\")\n",
        "print(len(train_examples_list))"
      ]
    },
    {
      "cell_type": "code",
      "execution_count": 44,
      "metadata": {
        "id": "qc15eVYtG2Dv",
        "colab": {
          "base_uri": "https://localhost:8080/"
        },
        "outputId": "b9bc6e1d-1d55-4287-cdff-f1d226a667b8"
      },
      "outputs": [
        {
          "output_type": "stream",
          "name": "stderr",
          "text": [
            "WARNING:tensorflow:TPU system grpc://10.56.40.194:8470 has already been initialized. Reinitializing the TPU can cause previously created variables on TPU to be lost.\n",
            "WARNING:tensorflow:6 out of the last 6 calls to <function initialize_tpu_system.<locals>._tpu_init_fn at 0x7cc07ef797e0> triggered tf.function retracing. Tracing is expensive and the excessive number of tracings could be due to (1) creating @tf.function repeatedly in a loop, (2) passing tensors with different shapes, (3) passing Python objects instead of tensors. For (1), please define your @tf.function outside of the loop. For (2), @tf.function has reduce_retracing=True option that can avoid unnecessary retracing. For (3), please refer to https://www.tensorflow.org/guide/function#controlling_retracing and https://www.tensorflow.org/api_docs/python/tf/function for  more details.\n",
            "Some weights of the PyTorch model were not used when initializing the TF 2.0 model TFDistilBertModel: ['vocab_transform.weight', 'vocab_layer_norm.bias', 'vocab_layer_norm.weight', 'vocab_transform.bias', 'vocab_projector.bias']\n",
            "- This IS expected if you are initializing TFDistilBertModel from a PyTorch model trained on another task or with another architecture (e.g. initializing a TFBertForSequenceClassification model from a BertForPreTraining model).\n",
            "- This IS NOT expected if you are initializing TFDistilBertModel from a PyTorch model that you expect to be exactly identical (e.g. initializing a TFBertForSequenceClassification model from a BertForSequenceClassification model).\n",
            "All the weights of TFDistilBertModel were initialized from the PyTorch model.\n",
            "If your task is similar to the task the model of the checkpoint was trained on, you can already use TFDistilBertModel for predictions without further training.\n"
          ]
        },
        {
          "output_type": "stream",
          "name": "stdout",
          "text": [
            "Epoch 1/10\n",
            "10/10 [==============================] - 86s 3s/step - loss: 0.0873 - mean_squared_error: 0.0853\n",
            "Epoch 2/10\n",
            "10/10 [==============================] - 2s 181ms/step - loss: 0.0360 - mean_squared_error: 0.0355\n",
            "Epoch 3/10\n",
            "10/10 [==============================] - 2s 181ms/step - loss: 0.0231 - mean_squared_error: 0.0229\n",
            "Epoch 4/10\n",
            "10/10 [==============================] - 2s 184ms/step - loss: 0.0169 - mean_squared_error: 0.0168\n",
            "Epoch 5/10\n",
            "10/10 [==============================] - 2s 181ms/step - loss: 0.0138 - mean_squared_error: 0.0138\n",
            "Epoch 6/10\n",
            "10/10 [==============================] - 2s 182ms/step - loss: 0.0128 - mean_squared_error: 0.0128\n",
            "Epoch 7/10\n",
            "10/10 [==============================] - 2s 187ms/step - loss: 0.0118 - mean_squared_error: 0.0118\n",
            "Epoch 8/10\n",
            "10/10 [==============================] - 2s 182ms/step - loss: 0.0116 - mean_squared_error: 0.0116\n",
            "Epoch 9/10\n",
            "10/10 [==============================] - 2s 184ms/step - loss: 0.0113 - mean_squared_error: 0.0113\n",
            "Epoch 10/10\n",
            "10/10 [==============================] - 2s 182ms/step - loss: 0.0105 - mean_squared_error: 0.0105\n"
          ]
        }
      ],
      "source": [
        "model = get_model()\n",
        "history = model.fit([train_input_ids,train_attention_masks],\n",
        "                    train_targets,\n",
        "                    epochs=EPOCHS,\n",
        "                    batch_size=BATCH_SIZE,\n",
        "                    verbose=1)"
      ]
    },
    {
      "cell_type": "code",
      "execution_count": 45,
      "metadata": {
        "id": "WGrTvBP9OtMX",
        "colab": {
          "base_uri": "https://localhost:8080/"
        },
        "outputId": "2334256a-7b49-4879-e0e1-cc5198c3f838"
      },
      "outputs": [
        {
          "output_type": "stream",
          "name": "stdout",
          "text": [
            "20/20 [==============================] - 9s 137ms/step - loss: 0.0132 - mean_squared_error: 0.0129\n",
            "Test loss: 0.013210474513471127\n",
            "Test MSE: 0.012920158915221691\n"
          ]
        }
      ],
      "source": [
        "results = model.evaluate([np.asarray(test_input_ids),np.asarray(test_attention_masks)], test_targets)\n",
        "print('Test loss:', results[0])\n",
        "print('Test MSE:', results[1])"
      ]
    },
    {
      "cell_type": "markdown",
      "metadata": {
        "id": "Kpz5hGuIRYBX"
      },
      "source": [
        "Your results may be different depending on the implementation but typically there are no drastic differences between the augmentation setups."
      ]
    },
    {
      "cell_type": "markdown",
      "metadata": {
        "id": "F4RbT-0T3OMY"
      },
      "source": [
        "# Ensembled BERT Model\n",
        "\n",
        "In this section you will train and evaluate an **ensemble** of BERT models.\n",
        "\n",
        "We define the hyperparameters, including the number of models we want to ensemble (RERUNS=3, i.e., 3 models).\n",
        "\n",
        "**Task 4: Train three DistilBERT models, get their predictions on the test set, take the mean of those predictions and evaluate this ensembled prediction. Comment on the resulting performance.**\n",
        "\n",
        "We create three models in a loop, set a new random seed before creating each of them (`set_random_seed(seed=random.randint(0, 500))`) and accumulate predictions per model in a list."
      ]
    },
    {
      "cell_type": "code",
      "execution_count": 46,
      "metadata": {
        "id": "RMIdOlIukwu-"
      },
      "outputs": [],
      "source": [
        "# Get the train data again to avoid any confusion\n",
        "train_examples_list = train_df['text'].tolist()\n",
        "train_targets_list = (train_df['humor_rating']/5).tolist()\n",
        "\n",
        "train_input_ids, train_attention_masks, train_targets = get_bert_inputs(train_examples_list, train_targets_list)\n"
      ]
    },
    {
      "cell_type": "code",
      "execution_count": 49,
      "metadata": {
        "id": "PI5nSuK3jygf",
        "colab": {
          "base_uri": "https://localhost:8080/"
        },
        "outputId": "e8a5f5c2-e7ad-4254-bd8c-327e9b32af8c"
      },
      "outputs": [
        {
          "output_type": "stream",
          "name": "stdout",
          "text": [
            "Training model 1/3\n"
          ]
        },
        {
          "output_type": "stream",
          "name": "stderr",
          "text": [
            "WARNING:tensorflow:TPU system grpc://10.56.40.194:8470 has already been initialized. Reinitializing the TPU can cause previously created variables on TPU to be lost.\n",
            "Some weights of the PyTorch model were not used when initializing the TF 2.0 model TFDistilBertModel: ['vocab_transform.weight', 'vocab_layer_norm.bias', 'vocab_layer_norm.weight', 'vocab_transform.bias', 'vocab_projector.bias']\n",
            "- This IS expected if you are initializing TFDistilBertModel from a PyTorch model trained on another task or with another architecture (e.g. initializing a TFBertForSequenceClassification model from a BertForPreTraining model).\n",
            "- This IS NOT expected if you are initializing TFDistilBertModel from a PyTorch model that you expect to be exactly identical (e.g. initializing a TFBertForSequenceClassification model from a BertForSequenceClassification model).\n",
            "All the weights of TFDistilBertModel were initialized from the PyTorch model.\n",
            "If your task is similar to the task the model of the checkpoint was trained on, you can already use TFDistilBertModel for predictions without further training.\n"
          ]
        },
        {
          "output_type": "stream",
          "name": "stdout",
          "text": [
            "Epoch 1/10\n",
            "10/10 [==============================] - 88s 4s/step - loss: 0.0473 - mean_squared_error: 0.0465\n",
            "Epoch 2/10\n",
            "10/10 [==============================] - 2s 182ms/step - loss: 0.0214 - mean_squared_error: 0.0213\n",
            "Epoch 3/10\n",
            "10/10 [==============================] - 2s 181ms/step - loss: 0.0161 - mean_squared_error: 0.0161\n",
            "Epoch 4/10\n",
            "10/10 [==============================] - 2s 185ms/step - loss: 0.0137 - mean_squared_error: 0.0137\n",
            "Epoch 5/10\n",
            "10/10 [==============================] - 2s 182ms/step - loss: 0.0125 - mean_squared_error: 0.0124\n",
            "Epoch 6/10\n",
            "10/10 [==============================] - 2s 180ms/step - loss: 0.0119 - mean_squared_error: 0.0120\n",
            "Epoch 7/10\n",
            "10/10 [==============================] - 2s 185ms/step - loss: 0.0108 - mean_squared_error: 0.0108\n",
            "Epoch 8/10\n",
            "10/10 [==============================] - 2s 180ms/step - loss: 0.0109 - mean_squared_error: 0.0109\n",
            "Epoch 9/10\n",
            "10/10 [==============================] - 2s 183ms/step - loss: 0.0108 - mean_squared_error: 0.0107\n",
            "Epoch 10/10\n",
            "10/10 [==============================] - 2s 181ms/step - loss: 0.0104 - mean_squared_error: 0.0104\n",
            "20/20 [==============================] - 9s 309ms/step\n",
            "Training model 2/3\n"
          ]
        },
        {
          "output_type": "stream",
          "name": "stderr",
          "text": [
            "WARNING:tensorflow:TPU system grpc://10.56.40.194:8470 has already been initialized. Reinitializing the TPU can cause previously created variables on TPU to be lost.\n",
            "Some weights of the PyTorch model were not used when initializing the TF 2.0 model TFDistilBertModel: ['vocab_transform.weight', 'vocab_layer_norm.bias', 'vocab_layer_norm.weight', 'vocab_transform.bias', 'vocab_projector.bias']\n",
            "- This IS expected if you are initializing TFDistilBertModel from a PyTorch model trained on another task or with another architecture (e.g. initializing a TFBertForSequenceClassification model from a BertForPreTraining model).\n",
            "- This IS NOT expected if you are initializing TFDistilBertModel from a PyTorch model that you expect to be exactly identical (e.g. initializing a TFBertForSequenceClassification model from a BertForSequenceClassification model).\n",
            "All the weights of TFDistilBertModel were initialized from the PyTorch model.\n",
            "If your task is similar to the task the model of the checkpoint was trained on, you can already use TFDistilBertModel for predictions without further training.\n"
          ]
        },
        {
          "output_type": "stream",
          "name": "stdout",
          "text": [
            "Epoch 1/10\n",
            "10/10 [==============================] - 87s 4s/step - loss: 0.0697 - mean_squared_error: 0.0688\n",
            "Epoch 2/10\n",
            "10/10 [==============================] - 2s 181ms/step - loss: 0.0329 - mean_squared_error: 0.0327\n",
            "Epoch 3/10\n",
            "10/10 [==============================] - 2s 180ms/step - loss: 0.0214 - mean_squared_error: 0.0212\n",
            "Epoch 4/10\n",
            "10/10 [==============================] - 2s 183ms/step - loss: 0.0161 - mean_squared_error: 0.0161\n",
            "Epoch 5/10\n",
            "10/10 [==============================] - 2s 182ms/step - loss: 0.0141 - mean_squared_error: 0.0141\n",
            "Epoch 6/10\n",
            "10/10 [==============================] - 2s 180ms/step - loss: 0.0129 - mean_squared_error: 0.0130\n",
            "Epoch 7/10\n",
            "10/10 [==============================] - 2s 183ms/step - loss: 0.0120 - mean_squared_error: 0.0120\n",
            "Epoch 8/10\n",
            "10/10 [==============================] - 2s 180ms/step - loss: 0.0114 - mean_squared_error: 0.0114\n",
            "Epoch 9/10\n",
            "10/10 [==============================] - 2s 183ms/step - loss: 0.0111 - mean_squared_error: 0.0111\n",
            "Epoch 10/10\n",
            "10/10 [==============================] - 2s 180ms/step - loss: 0.0107 - mean_squared_error: 0.0107\n",
            "20/20 [==============================] - 10s 317ms/step\n",
            "Training model 3/3\n"
          ]
        },
        {
          "output_type": "stream",
          "name": "stderr",
          "text": [
            "WARNING:tensorflow:TPU system grpc://10.56.40.194:8470 has already been initialized. Reinitializing the TPU can cause previously created variables on TPU to be lost.\n",
            "Some weights of the PyTorch model were not used when initializing the TF 2.0 model TFDistilBertModel: ['vocab_transform.weight', 'vocab_layer_norm.bias', 'vocab_layer_norm.weight', 'vocab_transform.bias', 'vocab_projector.bias']\n",
            "- This IS expected if you are initializing TFDistilBertModel from a PyTorch model trained on another task or with another architecture (e.g. initializing a TFBertForSequenceClassification model from a BertForPreTraining model).\n",
            "- This IS NOT expected if you are initializing TFDistilBertModel from a PyTorch model that you expect to be exactly identical (e.g. initializing a TFBertForSequenceClassification model from a BertForSequenceClassification model).\n",
            "All the weights of TFDistilBertModel were initialized from the PyTorch model.\n",
            "If your task is similar to the task the model of the checkpoint was trained on, you can already use TFDistilBertModel for predictions without further training.\n"
          ]
        },
        {
          "output_type": "stream",
          "name": "stdout",
          "text": [
            "Epoch 1/10\n",
            "10/10 [==============================] - 87s 4s/step - loss: 0.0661 - mean_squared_error: 0.0648\n",
            "Epoch 2/10\n",
            "10/10 [==============================] - 2s 181ms/step - loss: 0.0308 - mean_squared_error: 0.0307\n",
            "Epoch 3/10\n",
            "10/10 [==============================] - 2s 179ms/step - loss: 0.0200 - mean_squared_error: 0.0199\n",
            "Epoch 4/10\n",
            "10/10 [==============================] - 2s 185ms/step - loss: 0.0164 - mean_squared_error: 0.0163\n",
            "Epoch 5/10\n",
            "10/10 [==============================] - 2s 181ms/step - loss: 0.0137 - mean_squared_error: 0.0137\n",
            "Epoch 6/10\n",
            "10/10 [==============================] - 2s 181ms/step - loss: 0.0125 - mean_squared_error: 0.0125\n",
            "Epoch 7/10\n",
            "10/10 [==============================] - 2s 183ms/step - loss: 0.0118 - mean_squared_error: 0.0117\n",
            "Epoch 8/10\n",
            "10/10 [==============================] - 2s 180ms/step - loss: 0.0110 - mean_squared_error: 0.0110\n",
            "Epoch 9/10\n",
            "10/10 [==============================] - 2s 183ms/step - loss: 0.0106 - mean_squared_error: 0.0106\n",
            "Epoch 10/10\n",
            "10/10 [==============================] - 2s 180ms/step - loss: 0.0106 - mean_squared_error: 0.0106\n",
            "20/20 [==============================] - 9s 319ms/step\n"
          ]
        }
      ],
      "source": [
        "RERUNS = 3\n",
        "# We save the predictions of each model to the list\n",
        "all_model_preds = list()\n",
        "\n",
        "for i in range(RERUNS):\n",
        "    print(f\"Training model {i+1}/{RERUNS}\")\n",
        "    tf.random.set_seed(np.random.randint(0, 500))\n",
        "\n",
        "    model = get_model(use_tpu=True, use_gpu=False, learning_rate=2e-5)\n",
        "\n",
        "    model.fit([train_input_ids,train_attention_masks],\n",
        "              train_targets,\n",
        "              epochs=EPOCHS,\n",
        "              batch_size=BATCH_SIZE,\n",
        "              verbose=1)\n",
        "\n",
        "    # Collecting predictions\n",
        "    preds = model.predict([test_input_ids, test_attention_masks])\n",
        "    all_model_preds.append(preds)"
      ]
    },
    {
      "cell_type": "code",
      "execution_count": 50,
      "metadata": {
        "id": "Zzm8Afa1wz7i",
        "colab": {
          "base_uri": "https://localhost:8080/"
        },
        "outputId": "a6395d82-934b-4ad7-fe48-d479420a0d2e"
      },
      "outputs": [
        {
          "output_type": "stream",
          "name": "stdout",
          "text": [
            "Ensemble Test MSE : 0.0130\n"
          ]
        }
      ],
      "source": [
        "from sklearn.metrics import classification_report, mean_squared_error\n",
        "\n",
        "mean_preds = np.mean(np.array(all_model_preds), axis=0)\n",
        "ensemble_mse = mean_squared_error(test_targets, mean_preds)\n",
        "\n",
        "print('Ensemble Test MSE : {:.4f}'.format(ensemble_mse))"
      ]
    },
    {
      "cell_type": "markdown",
      "metadata": {
        "id": "UNa2mwVBRzYq"
      },
      "source": [
        "Your results may be different depending on the implementation but typically ensembling slightly improves the performance for this task."
      ]
    },
    {
      "cell_type": "markdown",
      "metadata": {
        "id": "IL2QN-k32OSj"
      },
      "source": [
        "# Multi-task Learning with BERT\n",
        "\n",
        "**Task 6: Train a multi-task (MTL) model with the additional regression task of predicting the offense rating. Re-train the single-task model from Task 1 with half of the initial training data. The code to fetch these data is provided below. Comment on the resulting performance for the regresion task in the data sparsity conditions for the two models (single-task and MTL).**\n",
        "\n",
        "*Hint*: The MTL model will have two identical output layers (one for predicting humour rating, the other to predict offense rating).\n",
        "\n",
        "We specify two losses and two metrics to compile the model `loss={'out_reg1': 'mse', 'out_reg2': 'mse'}, metrics={'out_reg1': 'mse', 'out_reg2': 'mse'}`. We increase the epoch count to 25 due to the reduced training data."
      ]
    },
    {
      "cell_type": "code",
      "execution_count": 51,
      "metadata": {
        "id": "eV5DB1QTSRLm",
        "colab": {
          "base_uri": "https://localhost:8080/"
        },
        "outputId": "332f4fc8-458d-4ad8-b53a-1ebf13794c31"
      },
      "outputs": [
        {
          "output_type": "stream",
          "name": "stderr",
          "text": [
            "WARNING:tensorflow:TPU system grpc://10.56.40.194:8470 has already been initialized. Reinitializing the TPU can cause previously created variables on TPU to be lost.\n",
            "Some weights of the PyTorch model were not used when initializing the TF 2.0 model TFDistilBertModel: ['vocab_transform.weight', 'vocab_layer_norm.bias', 'vocab_layer_norm.weight', 'vocab_transform.bias', 'vocab_projector.bias']\n",
            "- This IS expected if you are initializing TFDistilBertModel from a PyTorch model trained on another task or with another architecture (e.g. initializing a TFBertForSequenceClassification model from a BertForPreTraining model).\n",
            "- This IS NOT expected if you are initializing TFDistilBertModel from a PyTorch model that you expect to be exactly identical (e.g. initializing a TFBertForSequenceClassification model from a BertForSequenceClassification model).\n",
            "All the weights of TFDistilBertModel were initialized from the PyTorch model.\n",
            "If your task is similar to the task the model of the checkpoint was trained on, you can already use TFDistilBertModel for predictions without further training.\n"
          ]
        }
      ],
      "source": [
        "set_random_seed()\n",
        "\n",
        "from transformers import TFDistilBertModel, DistilBertConfig\n",
        "from tensorflow.keras.layers import Input, Dense, Dropout\n",
        "\n",
        "def create_TFBertMultitask():\n",
        "\n",
        "  # Your code goes here\n",
        "  config = DistilBertConfig.from_pretrained('distilbert-base-uncased', output_hidden_states=False)\n",
        "  distilBERT = TFDistilBertModel.from_pretrained('distilbert-base-uncased', config=config)\n",
        "\n",
        "  # Inputs\n",
        "  input_ids = Input(shape=(None,), dtype=tf.int32, name=\"input_ids\")\n",
        "  input_masks_ids = Input(shape=(None,), dtype=tf.int32, name=\"attention_mask\")\n",
        "\n",
        "  # BERT embeddings\n",
        "  distilBERT_output = distilBERT(input_ids, attention_mask=input_masks_ids)\n",
        "  sequence_output = distilBERT_output.last_hidden_state\n",
        "\n",
        "  # Shared layers\n",
        "  x = GlobalAveragePooling1DMasked()(sequence_output)\n",
        "  x = Dropout(0.1)(x)\n",
        "\n",
        "  # Task-specific layers\n",
        "  out_reg1 = Dense(1, activation='sigmoid', name='out_reg1')(x)  # For humor rating prediction\n",
        "  out_reg2 = Dense(1, activation='sigmoid', name='out_reg2')(x)  # For offense rating prediction\n",
        "\n",
        "\n",
        "  # comment to run a single-task model\n",
        "  return tf.keras.Model(inputs=[input_ids, input_masks_ids], outputs = [out_reg1, out_reg2])\n",
        "  # uncomment to run a single-task model\n",
        "  # return tf.keras.Model(inputs=[input_ids, input_masks_ids], outputs = [out_reg1])\n",
        "\n",
        "use_tpu = True\n",
        "use_gpu = False\n",
        "if use_tpu:\n",
        "  # Create distribution strategy\n",
        "  tpu = tf.distribute.cluster_resolver.TPUClusterResolver()\n",
        "  tf.config.experimental_connect_to_cluster(tpu)\n",
        "  tf.tpu.experimental.initialize_tpu_system(tpu)\n",
        "  strategy = tf.distribute.TPUStrategy(tpu)\n",
        "\n",
        "  # Create model on TPU:\n",
        "  with strategy.scope():\n",
        "    model = create_TFBertMultitask()\n",
        "    optimizer = tf.keras.optimizers.Adam(learning_rate=2e-5)\n",
        "    # comment to run a single-task model\n",
        "    model.compile(optimizer=optimizer, loss={'out_reg1': 'mse',\n",
        "                         'out_reg2': 'mse'}, metrics={'out_reg1': 'mse',\n",
        "                          'out_reg2': 'mse'})\n",
        "    # uncomment to run a single-task model\n",
        "    # model.compile(optimizer=optimizer, loss={'out_reg1': 'mse'}, metrics={'out_reg1': 'mse'})\n",
        "\n",
        "elif use_gpu:\n",
        "  device_name = tf.test.gpu_device_name()\n",
        "  print(device_name)\n",
        "  with tf.device('/device:GPU:0'):\n",
        "    model = create_TFBertMultitask()\n",
        "    optimizer = tf.keras.optimizers.Adam(learning_rate=2e-5)\n",
        "    model.compile(optimizer=optimizer, loss={'out_reg1': 'mse',\n",
        "                         'out_reg2': 'mse'}, metrics={'out_reg1': 'mse',\n",
        "                          'out_reg2': 'mse'})\n",
        "else:\n",
        "  model = create_TFBertMultitask()\n",
        "  optimizer = tf.keras.optimizers.Adam(learning_rate=2e-5)\n",
        "  model.compile(optimizer=optimizer, loss={'out_reg1': 'mse',\n",
        "                         'out_reg2': 'mse'}, metrics={'out_reg1': 'mse',\n",
        "                          'out_reg2': 'mse'})\n"
      ]
    },
    {
      "cell_type": "code",
      "execution_count": 52,
      "metadata": {
        "id": "Lfci4A85inT2",
        "colab": {
          "base_uri": "https://localhost:8080/"
        },
        "outputId": "d8634f60-6391-4935-c30e-3aade2583005"
      },
      "outputs": [
        {
          "output_type": "stream",
          "name": "stdout",
          "text": [
            "Model: \"model_11\"\n",
            "__________________________________________________________________________________________________\n",
            " Layer (type)                   Output Shape         Param #     Connected to                     \n",
            "==================================================================================================\n",
            " input_ids (InputLayer)         [(None, None)]       0           []                               \n",
            "                                                                                                  \n",
            " attention_mask (InputLayer)    [(None, None)]       0           []                               \n",
            "                                                                                                  \n",
            " tf_distil_bert_model_13 (TFDis  TFBaseModelOutput(l  66362880   ['input_ids[0][0]',              \n",
            " tilBertModel)                  ast_hidden_state=(N               'attention_mask[0][0]']         \n",
            "                                one, None, 768),                                                  \n",
            "                                 hidden_states=None                                               \n",
            "                                , attentions=None)                                                \n",
            "                                                                                                  \n",
            " global_average_pooling1d_maske  (None, 768)         0           ['tf_distil_bert_model_13[0][0]']\n",
            " d_12 (GlobalAveragePooling1DMa                                                                   \n",
            " sked)                                                                                            \n",
            "                                                                                                  \n",
            " dropout_247 (Dropout)          (None, 768)          0           ['global_average_pooling1d_masked\n",
            "                                                                 _12[0][0]']                      \n",
            "                                                                                                  \n",
            " out_reg1 (Dense)               (None, 1)            769         ['dropout_247[0][0]']            \n",
            "                                                                                                  \n",
            " out_reg2 (Dense)               (None, 1)            769         ['dropout_247[0][0]']            \n",
            "                                                                                                  \n",
            "==================================================================================================\n",
            "Total params: 66,364,418\n",
            "Trainable params: 66,364,418\n",
            "Non-trainable params: 0\n",
            "__________________________________________________________________________________________________\n"
          ]
        }
      ],
      "source": [
        "model.summary()"
      ]
    },
    {
      "cell_type": "code",
      "execution_count": 53,
      "metadata": {
        "id": "-XQqz3Gr2ZkG"
      },
      "outputs": [],
      "source": [
        "# Get half of the training data\n",
        "train_examples_list = train_df['text'].tolist()[2500:]\n",
        "train_targets_list = (train_df['humor_rating']/5).tolist()[2500:]\n",
        "\n",
        "train_input_ids, train_attention_masks, train_targets = get_bert_inputs(train_examples_list, train_targets_list)\n",
        "\n",
        "# Get the offense ratings for the second regression task (we normalise them as well)\n",
        "train_targets2_list = (train_df['offense_rating']/5).tolist()[2500:]\n",
        "test_targets2_list = (test_df['offense_rating']/5).tolist()\n",
        "\n",
        "train_targets2 = np.array(train_targets2_list)\n",
        "test_targets2 = np.array(test_targets2_list)"
      ]
    },
    {
      "cell_type": "code",
      "execution_count": 54,
      "metadata": {
        "id": "PX7fEExQZ8tE",
        "colab": {
          "base_uri": "https://localhost:8080/"
        },
        "outputId": "31d43121-a4df-4cb2-c51e-484c655d420b"
      },
      "outputs": [
        {
          "output_type": "stream",
          "name": "stdout",
          "text": [
            "Epoch 1/25\n",
            "5/5 [==============================] - 89s 8s/step - loss: 0.0912 - out_reg1_loss: 0.0177 - out_reg2_loss: 0.0735 - out_reg1_mse: 0.0177 - out_reg2_mse: 0.0735\n",
            "Epoch 2/25\n",
            "5/5 [==============================] - 1s 192ms/step - loss: 0.0742 - out_reg1_loss: 0.0148 - out_reg2_loss: 0.0594 - out_reg1_mse: 0.0148 - out_reg2_mse: 0.0594\n",
            "Epoch 3/25\n",
            "5/5 [==============================] - 1s 197ms/step - loss: 0.0707 - out_reg1_loss: 0.0132 - out_reg2_loss: 0.0575 - out_reg1_mse: 0.0132 - out_reg2_mse: 0.0575\n",
            "Epoch 4/25\n",
            "5/5 [==============================] - 1s 190ms/step - loss: 0.0618 - out_reg1_loss: 0.0123 - out_reg2_loss: 0.0495 - out_reg1_mse: 0.0123 - out_reg2_mse: 0.0495\n",
            "Epoch 5/25\n",
            "5/5 [==============================] - 1s 191ms/step - loss: 0.0597 - out_reg1_loss: 0.0119 - out_reg2_loss: 0.0478 - out_reg1_mse: 0.0119 - out_reg2_mse: 0.0478\n",
            "Epoch 6/25\n",
            "5/5 [==============================] - 1s 192ms/step - loss: 0.0580 - out_reg1_loss: 0.0116 - out_reg2_loss: 0.0464 - out_reg1_mse: 0.0116 - out_reg2_mse: 0.0464\n",
            "Epoch 7/25\n",
            "5/5 [==============================] - 1s 189ms/step - loss: 0.0546 - out_reg1_loss: 0.0113 - out_reg2_loss: 0.0433 - out_reg1_mse: 0.0113 - out_reg2_mse: 0.0433\n",
            "Epoch 8/25\n",
            "5/5 [==============================] - 1s 190ms/step - loss: 0.0517 - out_reg1_loss: 0.0110 - out_reg2_loss: 0.0407 - out_reg1_mse: 0.0110 - out_reg2_mse: 0.0407\n",
            "Epoch 9/25\n",
            "5/5 [==============================] - 1s 190ms/step - loss: 0.0474 - out_reg1_loss: 0.0107 - out_reg2_loss: 0.0366 - out_reg1_mse: 0.0107 - out_reg2_mse: 0.0366\n",
            "Epoch 10/25\n",
            "5/5 [==============================] - 1s 201ms/step - loss: 0.0426 - out_reg1_loss: 0.0104 - out_reg2_loss: 0.0322 - out_reg1_mse: 0.0104 - out_reg2_mse: 0.0322\n",
            "Epoch 11/25\n",
            "5/5 [==============================] - 1s 189ms/step - loss: 0.0377 - out_reg1_loss: 0.0101 - out_reg2_loss: 0.0276 - out_reg1_mse: 0.0101 - out_reg2_mse: 0.0276\n",
            "Epoch 12/25\n",
            "5/5 [==============================] - 1s 190ms/step - loss: 0.0336 - out_reg1_loss: 0.0096 - out_reg2_loss: 0.0240 - out_reg1_mse: 0.0096 - out_reg2_mse: 0.0240\n",
            "Epoch 13/25\n",
            "5/5 [==============================] - 1s 195ms/step - loss: 0.0311 - out_reg1_loss: 0.0095 - out_reg2_loss: 0.0216 - out_reg1_mse: 0.0095 - out_reg2_mse: 0.0216\n",
            "Epoch 14/25\n",
            "5/5 [==============================] - 1s 191ms/step - loss: 0.0281 - out_reg1_loss: 0.0091 - out_reg2_loss: 0.0191 - out_reg1_mse: 0.0091 - out_reg2_mse: 0.0191\n",
            "Epoch 15/25\n",
            "5/5 [==============================] - 1s 189ms/step - loss: 0.0257 - out_reg1_loss: 0.0088 - out_reg2_loss: 0.0169 - out_reg1_mse: 0.0088 - out_reg2_mse: 0.0169\n",
            "Epoch 16/25\n",
            "5/5 [==============================] - 1s 189ms/step - loss: 0.0229 - out_reg1_loss: 0.0084 - out_reg2_loss: 0.0145 - out_reg1_mse: 0.0084 - out_reg2_mse: 0.0145\n",
            "Epoch 17/25\n",
            "5/5 [==============================] - 1s 188ms/step - loss: 0.0214 - out_reg1_loss: 0.0085 - out_reg2_loss: 0.0130 - out_reg1_mse: 0.0085 - out_reg2_mse: 0.0130\n",
            "Epoch 18/25\n",
            "5/5 [==============================] - 1s 189ms/step - loss: 0.0191 - out_reg1_loss: 0.0079 - out_reg2_loss: 0.0113 - out_reg1_mse: 0.0079 - out_reg2_mse: 0.0113\n",
            "Epoch 19/25\n",
            "5/5 [==============================] - 1s 199ms/step - loss: 0.0174 - out_reg1_loss: 0.0075 - out_reg2_loss: 0.0099 - out_reg1_mse: 0.0075 - out_reg2_mse: 0.0099\n",
            "Epoch 20/25\n",
            "5/5 [==============================] - 1s 192ms/step - loss: 0.0154 - out_reg1_loss: 0.0070 - out_reg2_loss: 0.0085 - out_reg1_mse: 0.0070 - out_reg2_mse: 0.0085\n",
            "Epoch 21/25\n",
            "5/5 [==============================] - 1s 189ms/step - loss: 0.0143 - out_reg1_loss: 0.0068 - out_reg2_loss: 0.0075 - out_reg1_mse: 0.0068 - out_reg2_mse: 0.0075\n",
            "Epoch 22/25\n",
            "5/5 [==============================] - 1s 189ms/step - loss: 0.0127 - out_reg1_loss: 0.0064 - out_reg2_loss: 0.0063 - out_reg1_mse: 0.0064 - out_reg2_mse: 0.0063\n",
            "Epoch 23/25\n",
            "5/5 [==============================] - 1s 192ms/step - loss: 0.0117 - out_reg1_loss: 0.0059 - out_reg2_loss: 0.0058 - out_reg1_mse: 0.0059 - out_reg2_mse: 0.0058\n",
            "Epoch 24/25\n",
            "5/5 [==============================] - 1s 195ms/step - loss: 0.0110 - out_reg1_loss: 0.0058 - out_reg2_loss: 0.0052 - out_reg1_mse: 0.0058 - out_reg2_mse: 0.0052\n",
            "Epoch 25/25\n",
            "5/5 [==============================] - 1s 189ms/step - loss: 0.0101 - out_reg1_loss: 0.0055 - out_reg2_loss: 0.0047 - out_reg1_mse: 0.0055 - out_reg2_mse: 0.0047\n"
          ]
        }
      ],
      "source": [
        "# comment to run a single-task model\n",
        "\n",
        "history = model.fit([train_input_ids, train_attention_masks],\n",
        "                    [train_targets, train_targets2],\n",
        "                    epochs=25,\n",
        "                    batch_size=BATCH_SIZE,\n",
        "                    verbose=1)\n",
        "\n",
        "# uncomment to run a single-task model\n",
        "# history = model.fit([train_input_ids, train_attention_masks],\n",
        "#                    [train_targets],\n",
        "#                    epochs=25,\n",
        "#                    batch_size=BATCH_SIZE,\n",
        "#                    verbose=1)"
      ]
    },
    {
      "cell_type": "code",
      "execution_count": 55,
      "metadata": {
        "id": "UiJg_LlqaRPp",
        "colab": {
          "base_uri": "https://localhost:8080/"
        },
        "outputId": "9f40c9ce-14d5-486d-a92d-28ee4c0d30b7"
      },
      "outputs": [
        {
          "output_type": "stream",
          "name": "stdout",
          "text": [
            "20/20 [==============================] - 10s 152ms/step - loss: 0.0302 - out_reg1_loss: 0.0124 - out_reg2_loss: 0.0178 - out_reg1_mse: 0.0124 - out_reg2_mse: 0.0178\n",
            "Test loss: 0.030175114050507545\n",
            "Test MSE: 0.012395760975778103\n"
          ]
        }
      ],
      "source": [
        "results = model.evaluate([test_input_ids,test_attention_masks], [test_targets, test_targets2])\n",
        "print('Test loss:', results[0])\n",
        "print('Test MSE:', results[1])"
      ]
    },
    {
      "cell_type": "markdown",
      "metadata": {
        "id": "ARRZiV9Ga79g"
      },
      "source": [
        "Your results may be different depending on the implementation but typically MTL slightly improves the performance over the single-task model trained in similar conditions."
      ]
    }
  ],
  "metadata": {
    "accelerator": "TPU",
    "colab": {
      "provenance": []
    },
    "gpuClass": "standard",
    "kernelspec": {
      "display_name": "Python 3",
      "language": "python",
      "name": "python3"
    },
    "language_info": {
      "codemirror_mode": {
        "name": "ipython",
        "version": 3
      },
      "file_extension": ".py",
      "mimetype": "text/x-python",
      "name": "python",
      "nbconvert_exporter": "python",
      "pygments_lexer": "ipython3",
      "version": "3.7.1"
    },
    "widgets": {
      "application/vnd.jupyter.widget-state+json": {
        "3790b7ed5d324c749879dde6b1553b0a": {
          "model_module": "@jupyter-widgets/controls",
          "model_name": "HBoxModel",
          "model_module_version": "1.5.0",
          "state": {
            "_dom_classes": [],
            "_model_module": "@jupyter-widgets/controls",
            "_model_module_version": "1.5.0",
            "_model_name": "HBoxModel",
            "_view_count": null,
            "_view_module": "@jupyter-widgets/controls",
            "_view_module_version": "1.5.0",
            "_view_name": "HBoxView",
            "box_style": "",
            "children": [
              "IPY_MODEL_41ac4639112b43488ec758bf6b34c6fb",
              "IPY_MODEL_6a4602e9a2794253aaa25646da389de9",
              "IPY_MODEL_208cf680887d470a8b7385a76460feeb"
            ],
            "layout": "IPY_MODEL_fffa089209814bbea7df7bb86bf74280"
          }
        },
        "41ac4639112b43488ec758bf6b34c6fb": {
          "model_module": "@jupyter-widgets/controls",
          "model_name": "HTMLModel",
          "model_module_version": "1.5.0",
          "state": {
            "_dom_classes": [],
            "_model_module": "@jupyter-widgets/controls",
            "_model_module_version": "1.5.0",
            "_model_name": "HTMLModel",
            "_view_count": null,
            "_view_module": "@jupyter-widgets/controls",
            "_view_module_version": "1.5.0",
            "_view_name": "HTMLView",
            "description": "",
            "description_tooltip": null,
            "layout": "IPY_MODEL_b3d6d891153e4781bb3eb94c77039ff2",
            "placeholder": "​",
            "style": "IPY_MODEL_37ef7aca1b82426a8318f424067385ce",
            "value": "tokenizer_config.json: 100%"
          }
        },
        "6a4602e9a2794253aaa25646da389de9": {
          "model_module": "@jupyter-widgets/controls",
          "model_name": "FloatProgressModel",
          "model_module_version": "1.5.0",
          "state": {
            "_dom_classes": [],
            "_model_module": "@jupyter-widgets/controls",
            "_model_module_version": "1.5.0",
            "_model_name": "FloatProgressModel",
            "_view_count": null,
            "_view_module": "@jupyter-widgets/controls",
            "_view_module_version": "1.5.0",
            "_view_name": "ProgressView",
            "bar_style": "success",
            "description": "",
            "description_tooltip": null,
            "layout": "IPY_MODEL_027b3ca0eba94b70a17c5a14d3899dd1",
            "max": 28,
            "min": 0,
            "orientation": "horizontal",
            "style": "IPY_MODEL_26236c3f26b74fa5a6de48a4e738249c",
            "value": 28
          }
        },
        "208cf680887d470a8b7385a76460feeb": {
          "model_module": "@jupyter-widgets/controls",
          "model_name": "HTMLModel",
          "model_module_version": "1.5.0",
          "state": {
            "_dom_classes": [],
            "_model_module": "@jupyter-widgets/controls",
            "_model_module_version": "1.5.0",
            "_model_name": "HTMLModel",
            "_view_count": null,
            "_view_module": "@jupyter-widgets/controls",
            "_view_module_version": "1.5.0",
            "_view_name": "HTMLView",
            "description": "",
            "description_tooltip": null,
            "layout": "IPY_MODEL_f3d20aa589464b91873dce26d459be99",
            "placeholder": "​",
            "style": "IPY_MODEL_7f86987d3763427f87d0db66357ce3c5",
            "value": " 28.0/28.0 [00:00&lt;00:00, 1.04kB/s]"
          }
        },
        "fffa089209814bbea7df7bb86bf74280": {
          "model_module": "@jupyter-widgets/base",
          "model_name": "LayoutModel",
          "model_module_version": "1.2.0",
          "state": {
            "_model_module": "@jupyter-widgets/base",
            "_model_module_version": "1.2.0",
            "_model_name": "LayoutModel",
            "_view_count": null,
            "_view_module": "@jupyter-widgets/base",
            "_view_module_version": "1.2.0",
            "_view_name": "LayoutView",
            "align_content": null,
            "align_items": null,
            "align_self": null,
            "border": null,
            "bottom": null,
            "display": null,
            "flex": null,
            "flex_flow": null,
            "grid_area": null,
            "grid_auto_columns": null,
            "grid_auto_flow": null,
            "grid_auto_rows": null,
            "grid_column": null,
            "grid_gap": null,
            "grid_row": null,
            "grid_template_areas": null,
            "grid_template_columns": null,
            "grid_template_rows": null,
            "height": null,
            "justify_content": null,
            "justify_items": null,
            "left": null,
            "margin": null,
            "max_height": null,
            "max_width": null,
            "min_height": null,
            "min_width": null,
            "object_fit": null,
            "object_position": null,
            "order": null,
            "overflow": null,
            "overflow_x": null,
            "overflow_y": null,
            "padding": null,
            "right": null,
            "top": null,
            "visibility": null,
            "width": null
          }
        },
        "b3d6d891153e4781bb3eb94c77039ff2": {
          "model_module": "@jupyter-widgets/base",
          "model_name": "LayoutModel",
          "model_module_version": "1.2.0",
          "state": {
            "_model_module": "@jupyter-widgets/base",
            "_model_module_version": "1.2.0",
            "_model_name": "LayoutModel",
            "_view_count": null,
            "_view_module": "@jupyter-widgets/base",
            "_view_module_version": "1.2.0",
            "_view_name": "LayoutView",
            "align_content": null,
            "align_items": null,
            "align_self": null,
            "border": null,
            "bottom": null,
            "display": null,
            "flex": null,
            "flex_flow": null,
            "grid_area": null,
            "grid_auto_columns": null,
            "grid_auto_flow": null,
            "grid_auto_rows": null,
            "grid_column": null,
            "grid_gap": null,
            "grid_row": null,
            "grid_template_areas": null,
            "grid_template_columns": null,
            "grid_template_rows": null,
            "height": null,
            "justify_content": null,
            "justify_items": null,
            "left": null,
            "margin": null,
            "max_height": null,
            "max_width": null,
            "min_height": null,
            "min_width": null,
            "object_fit": null,
            "object_position": null,
            "order": null,
            "overflow": null,
            "overflow_x": null,
            "overflow_y": null,
            "padding": null,
            "right": null,
            "top": null,
            "visibility": null,
            "width": null
          }
        },
        "37ef7aca1b82426a8318f424067385ce": {
          "model_module": "@jupyter-widgets/controls",
          "model_name": "DescriptionStyleModel",
          "model_module_version": "1.5.0",
          "state": {
            "_model_module": "@jupyter-widgets/controls",
            "_model_module_version": "1.5.0",
            "_model_name": "DescriptionStyleModel",
            "_view_count": null,
            "_view_module": "@jupyter-widgets/base",
            "_view_module_version": "1.2.0",
            "_view_name": "StyleView",
            "description_width": ""
          }
        },
        "027b3ca0eba94b70a17c5a14d3899dd1": {
          "model_module": "@jupyter-widgets/base",
          "model_name": "LayoutModel",
          "model_module_version": "1.2.0",
          "state": {
            "_model_module": "@jupyter-widgets/base",
            "_model_module_version": "1.2.0",
            "_model_name": "LayoutModel",
            "_view_count": null,
            "_view_module": "@jupyter-widgets/base",
            "_view_module_version": "1.2.0",
            "_view_name": "LayoutView",
            "align_content": null,
            "align_items": null,
            "align_self": null,
            "border": null,
            "bottom": null,
            "display": null,
            "flex": null,
            "flex_flow": null,
            "grid_area": null,
            "grid_auto_columns": null,
            "grid_auto_flow": null,
            "grid_auto_rows": null,
            "grid_column": null,
            "grid_gap": null,
            "grid_row": null,
            "grid_template_areas": null,
            "grid_template_columns": null,
            "grid_template_rows": null,
            "height": null,
            "justify_content": null,
            "justify_items": null,
            "left": null,
            "margin": null,
            "max_height": null,
            "max_width": null,
            "min_height": null,
            "min_width": null,
            "object_fit": null,
            "object_position": null,
            "order": null,
            "overflow": null,
            "overflow_x": null,
            "overflow_y": null,
            "padding": null,
            "right": null,
            "top": null,
            "visibility": null,
            "width": null
          }
        },
        "26236c3f26b74fa5a6de48a4e738249c": {
          "model_module": "@jupyter-widgets/controls",
          "model_name": "ProgressStyleModel",
          "model_module_version": "1.5.0",
          "state": {
            "_model_module": "@jupyter-widgets/controls",
            "_model_module_version": "1.5.0",
            "_model_name": "ProgressStyleModel",
            "_view_count": null,
            "_view_module": "@jupyter-widgets/base",
            "_view_module_version": "1.2.0",
            "_view_name": "StyleView",
            "bar_color": null,
            "description_width": ""
          }
        },
        "f3d20aa589464b91873dce26d459be99": {
          "model_module": "@jupyter-widgets/base",
          "model_name": "LayoutModel",
          "model_module_version": "1.2.0",
          "state": {
            "_model_module": "@jupyter-widgets/base",
            "_model_module_version": "1.2.0",
            "_model_name": "LayoutModel",
            "_view_count": null,
            "_view_module": "@jupyter-widgets/base",
            "_view_module_version": "1.2.0",
            "_view_name": "LayoutView",
            "align_content": null,
            "align_items": null,
            "align_self": null,
            "border": null,
            "bottom": null,
            "display": null,
            "flex": null,
            "flex_flow": null,
            "grid_area": null,
            "grid_auto_columns": null,
            "grid_auto_flow": null,
            "grid_auto_rows": null,
            "grid_column": null,
            "grid_gap": null,
            "grid_row": null,
            "grid_template_areas": null,
            "grid_template_columns": null,
            "grid_template_rows": null,
            "height": null,
            "justify_content": null,
            "justify_items": null,
            "left": null,
            "margin": null,
            "max_height": null,
            "max_width": null,
            "min_height": null,
            "min_width": null,
            "object_fit": null,
            "object_position": null,
            "order": null,
            "overflow": null,
            "overflow_x": null,
            "overflow_y": null,
            "padding": null,
            "right": null,
            "top": null,
            "visibility": null,
            "width": null
          }
        },
        "7f86987d3763427f87d0db66357ce3c5": {
          "model_module": "@jupyter-widgets/controls",
          "model_name": "DescriptionStyleModel",
          "model_module_version": "1.5.0",
          "state": {
            "_model_module": "@jupyter-widgets/controls",
            "_model_module_version": "1.5.0",
            "_model_name": "DescriptionStyleModel",
            "_view_count": null,
            "_view_module": "@jupyter-widgets/base",
            "_view_module_version": "1.2.0",
            "_view_name": "StyleView",
            "description_width": ""
          }
        },
        "c420ffdd18fa413480bc4f21e1d33e43": {
          "model_module": "@jupyter-widgets/controls",
          "model_name": "HBoxModel",
          "model_module_version": "1.5.0",
          "state": {
            "_dom_classes": [],
            "_model_module": "@jupyter-widgets/controls",
            "_model_module_version": "1.5.0",
            "_model_name": "HBoxModel",
            "_view_count": null,
            "_view_module": "@jupyter-widgets/controls",
            "_view_module_version": "1.5.0",
            "_view_name": "HBoxView",
            "box_style": "",
            "children": [
              "IPY_MODEL_d91240821a17401c858c29edf0e96dc4",
              "IPY_MODEL_48f44a99795641c38c9dff9cb5e4c8a4",
              "IPY_MODEL_42698fc2b5064ec1a2ac19d6f67d1854"
            ],
            "layout": "IPY_MODEL_6358bc64986f432e93f2dda8f12194c6"
          }
        },
        "d91240821a17401c858c29edf0e96dc4": {
          "model_module": "@jupyter-widgets/controls",
          "model_name": "HTMLModel",
          "model_module_version": "1.5.0",
          "state": {
            "_dom_classes": [],
            "_model_module": "@jupyter-widgets/controls",
            "_model_module_version": "1.5.0",
            "_model_name": "HTMLModel",
            "_view_count": null,
            "_view_module": "@jupyter-widgets/controls",
            "_view_module_version": "1.5.0",
            "_view_name": "HTMLView",
            "description": "",
            "description_tooltip": null,
            "layout": "IPY_MODEL_3b1d44e3bc204410964516a12f4823cb",
            "placeholder": "​",
            "style": "IPY_MODEL_fa91a3e97ffc4a9bb3461f216038f5fd",
            "value": "vocab.txt: 100%"
          }
        },
        "48f44a99795641c38c9dff9cb5e4c8a4": {
          "model_module": "@jupyter-widgets/controls",
          "model_name": "FloatProgressModel",
          "model_module_version": "1.5.0",
          "state": {
            "_dom_classes": [],
            "_model_module": "@jupyter-widgets/controls",
            "_model_module_version": "1.5.0",
            "_model_name": "FloatProgressModel",
            "_view_count": null,
            "_view_module": "@jupyter-widgets/controls",
            "_view_module_version": "1.5.0",
            "_view_name": "ProgressView",
            "bar_style": "success",
            "description": "",
            "description_tooltip": null,
            "layout": "IPY_MODEL_2ccc118b777f4798bc69159de49f4369",
            "max": 231508,
            "min": 0,
            "orientation": "horizontal",
            "style": "IPY_MODEL_81a1b36d198a40bb8307ef287d682335",
            "value": 231508
          }
        },
        "42698fc2b5064ec1a2ac19d6f67d1854": {
          "model_module": "@jupyter-widgets/controls",
          "model_name": "HTMLModel",
          "model_module_version": "1.5.0",
          "state": {
            "_dom_classes": [],
            "_model_module": "@jupyter-widgets/controls",
            "_model_module_version": "1.5.0",
            "_model_name": "HTMLModel",
            "_view_count": null,
            "_view_module": "@jupyter-widgets/controls",
            "_view_module_version": "1.5.0",
            "_view_name": "HTMLView",
            "description": "",
            "description_tooltip": null,
            "layout": "IPY_MODEL_1df48ff4864f427f9e60e4f6ded06d3d",
            "placeholder": "​",
            "style": "IPY_MODEL_05e72854d7f74d6396c9f55a9ae7679f",
            "value": " 232k/232k [00:00&lt;00:00, 4.15MB/s]"
          }
        },
        "6358bc64986f432e93f2dda8f12194c6": {
          "model_module": "@jupyter-widgets/base",
          "model_name": "LayoutModel",
          "model_module_version": "1.2.0",
          "state": {
            "_model_module": "@jupyter-widgets/base",
            "_model_module_version": "1.2.0",
            "_model_name": "LayoutModel",
            "_view_count": null,
            "_view_module": "@jupyter-widgets/base",
            "_view_module_version": "1.2.0",
            "_view_name": "LayoutView",
            "align_content": null,
            "align_items": null,
            "align_self": null,
            "border": null,
            "bottom": null,
            "display": null,
            "flex": null,
            "flex_flow": null,
            "grid_area": null,
            "grid_auto_columns": null,
            "grid_auto_flow": null,
            "grid_auto_rows": null,
            "grid_column": null,
            "grid_gap": null,
            "grid_row": null,
            "grid_template_areas": null,
            "grid_template_columns": null,
            "grid_template_rows": null,
            "height": null,
            "justify_content": null,
            "justify_items": null,
            "left": null,
            "margin": null,
            "max_height": null,
            "max_width": null,
            "min_height": null,
            "min_width": null,
            "object_fit": null,
            "object_position": null,
            "order": null,
            "overflow": null,
            "overflow_x": null,
            "overflow_y": null,
            "padding": null,
            "right": null,
            "top": null,
            "visibility": null,
            "width": null
          }
        },
        "3b1d44e3bc204410964516a12f4823cb": {
          "model_module": "@jupyter-widgets/base",
          "model_name": "LayoutModel",
          "model_module_version": "1.2.0",
          "state": {
            "_model_module": "@jupyter-widgets/base",
            "_model_module_version": "1.2.0",
            "_model_name": "LayoutModel",
            "_view_count": null,
            "_view_module": "@jupyter-widgets/base",
            "_view_module_version": "1.2.0",
            "_view_name": "LayoutView",
            "align_content": null,
            "align_items": null,
            "align_self": null,
            "border": null,
            "bottom": null,
            "display": null,
            "flex": null,
            "flex_flow": null,
            "grid_area": null,
            "grid_auto_columns": null,
            "grid_auto_flow": null,
            "grid_auto_rows": null,
            "grid_column": null,
            "grid_gap": null,
            "grid_row": null,
            "grid_template_areas": null,
            "grid_template_columns": null,
            "grid_template_rows": null,
            "height": null,
            "justify_content": null,
            "justify_items": null,
            "left": null,
            "margin": null,
            "max_height": null,
            "max_width": null,
            "min_height": null,
            "min_width": null,
            "object_fit": null,
            "object_position": null,
            "order": null,
            "overflow": null,
            "overflow_x": null,
            "overflow_y": null,
            "padding": null,
            "right": null,
            "top": null,
            "visibility": null,
            "width": null
          }
        },
        "fa91a3e97ffc4a9bb3461f216038f5fd": {
          "model_module": "@jupyter-widgets/controls",
          "model_name": "DescriptionStyleModel",
          "model_module_version": "1.5.0",
          "state": {
            "_model_module": "@jupyter-widgets/controls",
            "_model_module_version": "1.5.0",
            "_model_name": "DescriptionStyleModel",
            "_view_count": null,
            "_view_module": "@jupyter-widgets/base",
            "_view_module_version": "1.2.0",
            "_view_name": "StyleView",
            "description_width": ""
          }
        },
        "2ccc118b777f4798bc69159de49f4369": {
          "model_module": "@jupyter-widgets/base",
          "model_name": "LayoutModel",
          "model_module_version": "1.2.0",
          "state": {
            "_model_module": "@jupyter-widgets/base",
            "_model_module_version": "1.2.0",
            "_model_name": "LayoutModel",
            "_view_count": null,
            "_view_module": "@jupyter-widgets/base",
            "_view_module_version": "1.2.0",
            "_view_name": "LayoutView",
            "align_content": null,
            "align_items": null,
            "align_self": null,
            "border": null,
            "bottom": null,
            "display": null,
            "flex": null,
            "flex_flow": null,
            "grid_area": null,
            "grid_auto_columns": null,
            "grid_auto_flow": null,
            "grid_auto_rows": null,
            "grid_column": null,
            "grid_gap": null,
            "grid_row": null,
            "grid_template_areas": null,
            "grid_template_columns": null,
            "grid_template_rows": null,
            "height": null,
            "justify_content": null,
            "justify_items": null,
            "left": null,
            "margin": null,
            "max_height": null,
            "max_width": null,
            "min_height": null,
            "min_width": null,
            "object_fit": null,
            "object_position": null,
            "order": null,
            "overflow": null,
            "overflow_x": null,
            "overflow_y": null,
            "padding": null,
            "right": null,
            "top": null,
            "visibility": null,
            "width": null
          }
        },
        "81a1b36d198a40bb8307ef287d682335": {
          "model_module": "@jupyter-widgets/controls",
          "model_name": "ProgressStyleModel",
          "model_module_version": "1.5.0",
          "state": {
            "_model_module": "@jupyter-widgets/controls",
            "_model_module_version": "1.5.0",
            "_model_name": "ProgressStyleModel",
            "_view_count": null,
            "_view_module": "@jupyter-widgets/base",
            "_view_module_version": "1.2.0",
            "_view_name": "StyleView",
            "bar_color": null,
            "description_width": ""
          }
        },
        "1df48ff4864f427f9e60e4f6ded06d3d": {
          "model_module": "@jupyter-widgets/base",
          "model_name": "LayoutModel",
          "model_module_version": "1.2.0",
          "state": {
            "_model_module": "@jupyter-widgets/base",
            "_model_module_version": "1.2.0",
            "_model_name": "LayoutModel",
            "_view_count": null,
            "_view_module": "@jupyter-widgets/base",
            "_view_module_version": "1.2.0",
            "_view_name": "LayoutView",
            "align_content": null,
            "align_items": null,
            "align_self": null,
            "border": null,
            "bottom": null,
            "display": null,
            "flex": null,
            "flex_flow": null,
            "grid_area": null,
            "grid_auto_columns": null,
            "grid_auto_flow": null,
            "grid_auto_rows": null,
            "grid_column": null,
            "grid_gap": null,
            "grid_row": null,
            "grid_template_areas": null,
            "grid_template_columns": null,
            "grid_template_rows": null,
            "height": null,
            "justify_content": null,
            "justify_items": null,
            "left": null,
            "margin": null,
            "max_height": null,
            "max_width": null,
            "min_height": null,
            "min_width": null,
            "object_fit": null,
            "object_position": null,
            "order": null,
            "overflow": null,
            "overflow_x": null,
            "overflow_y": null,
            "padding": null,
            "right": null,
            "top": null,
            "visibility": null,
            "width": null
          }
        },
        "05e72854d7f74d6396c9f55a9ae7679f": {
          "model_module": "@jupyter-widgets/controls",
          "model_name": "DescriptionStyleModel",
          "model_module_version": "1.5.0",
          "state": {
            "_model_module": "@jupyter-widgets/controls",
            "_model_module_version": "1.5.0",
            "_model_name": "DescriptionStyleModel",
            "_view_count": null,
            "_view_module": "@jupyter-widgets/base",
            "_view_module_version": "1.2.0",
            "_view_name": "StyleView",
            "description_width": ""
          }
        },
        "4ce1b94608cf49a99370fcc687a19f53": {
          "model_module": "@jupyter-widgets/controls",
          "model_name": "HBoxModel",
          "model_module_version": "1.5.0",
          "state": {
            "_dom_classes": [],
            "_model_module": "@jupyter-widgets/controls",
            "_model_module_version": "1.5.0",
            "_model_name": "HBoxModel",
            "_view_count": null,
            "_view_module": "@jupyter-widgets/controls",
            "_view_module_version": "1.5.0",
            "_view_name": "HBoxView",
            "box_style": "",
            "children": [
              "IPY_MODEL_5644a1e6767f48cf9415f8071a39a8fc",
              "IPY_MODEL_168dfa2faf17400fa4cccda2695515ae",
              "IPY_MODEL_a0c808c34c6543579d07d81b0aef1b88"
            ],
            "layout": "IPY_MODEL_bbb48d19a4d3439793523064a5104e7b"
          }
        },
        "5644a1e6767f48cf9415f8071a39a8fc": {
          "model_module": "@jupyter-widgets/controls",
          "model_name": "HTMLModel",
          "model_module_version": "1.5.0",
          "state": {
            "_dom_classes": [],
            "_model_module": "@jupyter-widgets/controls",
            "_model_module_version": "1.5.0",
            "_model_name": "HTMLModel",
            "_view_count": null,
            "_view_module": "@jupyter-widgets/controls",
            "_view_module_version": "1.5.0",
            "_view_name": "HTMLView",
            "description": "",
            "description_tooltip": null,
            "layout": "IPY_MODEL_2e3bd58710154328b148d4a049b1e605",
            "placeholder": "​",
            "style": "IPY_MODEL_9c959349d3d24571babd47bc78a17ae5",
            "value": "tokenizer.json: 100%"
          }
        },
        "168dfa2faf17400fa4cccda2695515ae": {
          "model_module": "@jupyter-widgets/controls",
          "model_name": "FloatProgressModel",
          "model_module_version": "1.5.0",
          "state": {
            "_dom_classes": [],
            "_model_module": "@jupyter-widgets/controls",
            "_model_module_version": "1.5.0",
            "_model_name": "FloatProgressModel",
            "_view_count": null,
            "_view_module": "@jupyter-widgets/controls",
            "_view_module_version": "1.5.0",
            "_view_name": "ProgressView",
            "bar_style": "success",
            "description": "",
            "description_tooltip": null,
            "layout": "IPY_MODEL_45d525cf1965479d904e02d760f4b3e3",
            "max": 466062,
            "min": 0,
            "orientation": "horizontal",
            "style": "IPY_MODEL_990121451065429da5acbe7deb25c528",
            "value": 466062
          }
        },
        "a0c808c34c6543579d07d81b0aef1b88": {
          "model_module": "@jupyter-widgets/controls",
          "model_name": "HTMLModel",
          "model_module_version": "1.5.0",
          "state": {
            "_dom_classes": [],
            "_model_module": "@jupyter-widgets/controls",
            "_model_module_version": "1.5.0",
            "_model_name": "HTMLModel",
            "_view_count": null,
            "_view_module": "@jupyter-widgets/controls",
            "_view_module_version": "1.5.0",
            "_view_name": "HTMLView",
            "description": "",
            "description_tooltip": null,
            "layout": "IPY_MODEL_67592caa71d449239808675c1eeded0e",
            "placeholder": "​",
            "style": "IPY_MODEL_38e57a78198a406cac552c55159cfbf8",
            "value": " 466k/466k [00:00&lt;00:00, 8.68MB/s]"
          }
        },
        "bbb48d19a4d3439793523064a5104e7b": {
          "model_module": "@jupyter-widgets/base",
          "model_name": "LayoutModel",
          "model_module_version": "1.2.0",
          "state": {
            "_model_module": "@jupyter-widgets/base",
            "_model_module_version": "1.2.0",
            "_model_name": "LayoutModel",
            "_view_count": null,
            "_view_module": "@jupyter-widgets/base",
            "_view_module_version": "1.2.0",
            "_view_name": "LayoutView",
            "align_content": null,
            "align_items": null,
            "align_self": null,
            "border": null,
            "bottom": null,
            "display": null,
            "flex": null,
            "flex_flow": null,
            "grid_area": null,
            "grid_auto_columns": null,
            "grid_auto_flow": null,
            "grid_auto_rows": null,
            "grid_column": null,
            "grid_gap": null,
            "grid_row": null,
            "grid_template_areas": null,
            "grid_template_columns": null,
            "grid_template_rows": null,
            "height": null,
            "justify_content": null,
            "justify_items": null,
            "left": null,
            "margin": null,
            "max_height": null,
            "max_width": null,
            "min_height": null,
            "min_width": null,
            "object_fit": null,
            "object_position": null,
            "order": null,
            "overflow": null,
            "overflow_x": null,
            "overflow_y": null,
            "padding": null,
            "right": null,
            "top": null,
            "visibility": null,
            "width": null
          }
        },
        "2e3bd58710154328b148d4a049b1e605": {
          "model_module": "@jupyter-widgets/base",
          "model_name": "LayoutModel",
          "model_module_version": "1.2.0",
          "state": {
            "_model_module": "@jupyter-widgets/base",
            "_model_module_version": "1.2.0",
            "_model_name": "LayoutModel",
            "_view_count": null,
            "_view_module": "@jupyter-widgets/base",
            "_view_module_version": "1.2.0",
            "_view_name": "LayoutView",
            "align_content": null,
            "align_items": null,
            "align_self": null,
            "border": null,
            "bottom": null,
            "display": null,
            "flex": null,
            "flex_flow": null,
            "grid_area": null,
            "grid_auto_columns": null,
            "grid_auto_flow": null,
            "grid_auto_rows": null,
            "grid_column": null,
            "grid_gap": null,
            "grid_row": null,
            "grid_template_areas": null,
            "grid_template_columns": null,
            "grid_template_rows": null,
            "height": null,
            "justify_content": null,
            "justify_items": null,
            "left": null,
            "margin": null,
            "max_height": null,
            "max_width": null,
            "min_height": null,
            "min_width": null,
            "object_fit": null,
            "object_position": null,
            "order": null,
            "overflow": null,
            "overflow_x": null,
            "overflow_y": null,
            "padding": null,
            "right": null,
            "top": null,
            "visibility": null,
            "width": null
          }
        },
        "9c959349d3d24571babd47bc78a17ae5": {
          "model_module": "@jupyter-widgets/controls",
          "model_name": "DescriptionStyleModel",
          "model_module_version": "1.5.0",
          "state": {
            "_model_module": "@jupyter-widgets/controls",
            "_model_module_version": "1.5.0",
            "_model_name": "DescriptionStyleModel",
            "_view_count": null,
            "_view_module": "@jupyter-widgets/base",
            "_view_module_version": "1.2.0",
            "_view_name": "StyleView",
            "description_width": ""
          }
        },
        "45d525cf1965479d904e02d760f4b3e3": {
          "model_module": "@jupyter-widgets/base",
          "model_name": "LayoutModel",
          "model_module_version": "1.2.0",
          "state": {
            "_model_module": "@jupyter-widgets/base",
            "_model_module_version": "1.2.0",
            "_model_name": "LayoutModel",
            "_view_count": null,
            "_view_module": "@jupyter-widgets/base",
            "_view_module_version": "1.2.0",
            "_view_name": "LayoutView",
            "align_content": null,
            "align_items": null,
            "align_self": null,
            "border": null,
            "bottom": null,
            "display": null,
            "flex": null,
            "flex_flow": null,
            "grid_area": null,
            "grid_auto_columns": null,
            "grid_auto_flow": null,
            "grid_auto_rows": null,
            "grid_column": null,
            "grid_gap": null,
            "grid_row": null,
            "grid_template_areas": null,
            "grid_template_columns": null,
            "grid_template_rows": null,
            "height": null,
            "justify_content": null,
            "justify_items": null,
            "left": null,
            "margin": null,
            "max_height": null,
            "max_width": null,
            "min_height": null,
            "min_width": null,
            "object_fit": null,
            "object_position": null,
            "order": null,
            "overflow": null,
            "overflow_x": null,
            "overflow_y": null,
            "padding": null,
            "right": null,
            "top": null,
            "visibility": null,
            "width": null
          }
        },
        "990121451065429da5acbe7deb25c528": {
          "model_module": "@jupyter-widgets/controls",
          "model_name": "ProgressStyleModel",
          "model_module_version": "1.5.0",
          "state": {
            "_model_module": "@jupyter-widgets/controls",
            "_model_module_version": "1.5.0",
            "_model_name": "ProgressStyleModel",
            "_view_count": null,
            "_view_module": "@jupyter-widgets/base",
            "_view_module_version": "1.2.0",
            "_view_name": "StyleView",
            "bar_color": null,
            "description_width": ""
          }
        },
        "67592caa71d449239808675c1eeded0e": {
          "model_module": "@jupyter-widgets/base",
          "model_name": "LayoutModel",
          "model_module_version": "1.2.0",
          "state": {
            "_model_module": "@jupyter-widgets/base",
            "_model_module_version": "1.2.0",
            "_model_name": "LayoutModel",
            "_view_count": null,
            "_view_module": "@jupyter-widgets/base",
            "_view_module_version": "1.2.0",
            "_view_name": "LayoutView",
            "align_content": null,
            "align_items": null,
            "align_self": null,
            "border": null,
            "bottom": null,
            "display": null,
            "flex": null,
            "flex_flow": null,
            "grid_area": null,
            "grid_auto_columns": null,
            "grid_auto_flow": null,
            "grid_auto_rows": null,
            "grid_column": null,
            "grid_gap": null,
            "grid_row": null,
            "grid_template_areas": null,
            "grid_template_columns": null,
            "grid_template_rows": null,
            "height": null,
            "justify_content": null,
            "justify_items": null,
            "left": null,
            "margin": null,
            "max_height": null,
            "max_width": null,
            "min_height": null,
            "min_width": null,
            "object_fit": null,
            "object_position": null,
            "order": null,
            "overflow": null,
            "overflow_x": null,
            "overflow_y": null,
            "padding": null,
            "right": null,
            "top": null,
            "visibility": null,
            "width": null
          }
        },
        "38e57a78198a406cac552c55159cfbf8": {
          "model_module": "@jupyter-widgets/controls",
          "model_name": "DescriptionStyleModel",
          "model_module_version": "1.5.0",
          "state": {
            "_model_module": "@jupyter-widgets/controls",
            "_model_module_version": "1.5.0",
            "_model_name": "DescriptionStyleModel",
            "_view_count": null,
            "_view_module": "@jupyter-widgets/base",
            "_view_module_version": "1.2.0",
            "_view_name": "StyleView",
            "description_width": ""
          }
        },
        "0bc7923209ee4c588c1d75dc15b834fe": {
          "model_module": "@jupyter-widgets/controls",
          "model_name": "HBoxModel",
          "model_module_version": "1.5.0",
          "state": {
            "_dom_classes": [],
            "_model_module": "@jupyter-widgets/controls",
            "_model_module_version": "1.5.0",
            "_model_name": "HBoxModel",
            "_view_count": null,
            "_view_module": "@jupyter-widgets/controls",
            "_view_module_version": "1.5.0",
            "_view_name": "HBoxView",
            "box_style": "",
            "children": [
              "IPY_MODEL_0c745d525d7742baac3e20da27f1323a",
              "IPY_MODEL_49768dd0f827409988173b129ef0dacb",
              "IPY_MODEL_868e579decd74b32ade056a2aea10e8a"
            ],
            "layout": "IPY_MODEL_6bf82b86270246258d0131230468f00b"
          }
        },
        "0c745d525d7742baac3e20da27f1323a": {
          "model_module": "@jupyter-widgets/controls",
          "model_name": "HTMLModel",
          "model_module_version": "1.5.0",
          "state": {
            "_dom_classes": [],
            "_model_module": "@jupyter-widgets/controls",
            "_model_module_version": "1.5.0",
            "_model_name": "HTMLModel",
            "_view_count": null,
            "_view_module": "@jupyter-widgets/controls",
            "_view_module_version": "1.5.0",
            "_view_name": "HTMLView",
            "description": "",
            "description_tooltip": null,
            "layout": "IPY_MODEL_dfd7a788ccea47c18715aa35868dedb4",
            "placeholder": "​",
            "style": "IPY_MODEL_0fcf6e50c45146ce8112d5f8d1440188",
            "value": "config.json: 100%"
          }
        },
        "49768dd0f827409988173b129ef0dacb": {
          "model_module": "@jupyter-widgets/controls",
          "model_name": "FloatProgressModel",
          "model_module_version": "1.5.0",
          "state": {
            "_dom_classes": [],
            "_model_module": "@jupyter-widgets/controls",
            "_model_module_version": "1.5.0",
            "_model_name": "FloatProgressModel",
            "_view_count": null,
            "_view_module": "@jupyter-widgets/controls",
            "_view_module_version": "1.5.0",
            "_view_name": "ProgressView",
            "bar_style": "success",
            "description": "",
            "description_tooltip": null,
            "layout": "IPY_MODEL_a831fad915694cd2a473613f48c0d6c1",
            "max": 483,
            "min": 0,
            "orientation": "horizontal",
            "style": "IPY_MODEL_0ecf108d605c4e7d9078de690b27d240",
            "value": 483
          }
        },
        "868e579decd74b32ade056a2aea10e8a": {
          "model_module": "@jupyter-widgets/controls",
          "model_name": "HTMLModel",
          "model_module_version": "1.5.0",
          "state": {
            "_dom_classes": [],
            "_model_module": "@jupyter-widgets/controls",
            "_model_module_version": "1.5.0",
            "_model_name": "HTMLModel",
            "_view_count": null,
            "_view_module": "@jupyter-widgets/controls",
            "_view_module_version": "1.5.0",
            "_view_name": "HTMLView",
            "description": "",
            "description_tooltip": null,
            "layout": "IPY_MODEL_229a812114cc4b169a4cc43be1c19293",
            "placeholder": "​",
            "style": "IPY_MODEL_8dc2dae7648a4359b1ba985557c882f3",
            "value": " 483/483 [00:00&lt;00:00, 24.1kB/s]"
          }
        },
        "6bf82b86270246258d0131230468f00b": {
          "model_module": "@jupyter-widgets/base",
          "model_name": "LayoutModel",
          "model_module_version": "1.2.0",
          "state": {
            "_model_module": "@jupyter-widgets/base",
            "_model_module_version": "1.2.0",
            "_model_name": "LayoutModel",
            "_view_count": null,
            "_view_module": "@jupyter-widgets/base",
            "_view_module_version": "1.2.0",
            "_view_name": "LayoutView",
            "align_content": null,
            "align_items": null,
            "align_self": null,
            "border": null,
            "bottom": null,
            "display": null,
            "flex": null,
            "flex_flow": null,
            "grid_area": null,
            "grid_auto_columns": null,
            "grid_auto_flow": null,
            "grid_auto_rows": null,
            "grid_column": null,
            "grid_gap": null,
            "grid_row": null,
            "grid_template_areas": null,
            "grid_template_columns": null,
            "grid_template_rows": null,
            "height": null,
            "justify_content": null,
            "justify_items": null,
            "left": null,
            "margin": null,
            "max_height": null,
            "max_width": null,
            "min_height": null,
            "min_width": null,
            "object_fit": null,
            "object_position": null,
            "order": null,
            "overflow": null,
            "overflow_x": null,
            "overflow_y": null,
            "padding": null,
            "right": null,
            "top": null,
            "visibility": null,
            "width": null
          }
        },
        "dfd7a788ccea47c18715aa35868dedb4": {
          "model_module": "@jupyter-widgets/base",
          "model_name": "LayoutModel",
          "model_module_version": "1.2.0",
          "state": {
            "_model_module": "@jupyter-widgets/base",
            "_model_module_version": "1.2.0",
            "_model_name": "LayoutModel",
            "_view_count": null,
            "_view_module": "@jupyter-widgets/base",
            "_view_module_version": "1.2.0",
            "_view_name": "LayoutView",
            "align_content": null,
            "align_items": null,
            "align_self": null,
            "border": null,
            "bottom": null,
            "display": null,
            "flex": null,
            "flex_flow": null,
            "grid_area": null,
            "grid_auto_columns": null,
            "grid_auto_flow": null,
            "grid_auto_rows": null,
            "grid_column": null,
            "grid_gap": null,
            "grid_row": null,
            "grid_template_areas": null,
            "grid_template_columns": null,
            "grid_template_rows": null,
            "height": null,
            "justify_content": null,
            "justify_items": null,
            "left": null,
            "margin": null,
            "max_height": null,
            "max_width": null,
            "min_height": null,
            "min_width": null,
            "object_fit": null,
            "object_position": null,
            "order": null,
            "overflow": null,
            "overflow_x": null,
            "overflow_y": null,
            "padding": null,
            "right": null,
            "top": null,
            "visibility": null,
            "width": null
          }
        },
        "0fcf6e50c45146ce8112d5f8d1440188": {
          "model_module": "@jupyter-widgets/controls",
          "model_name": "DescriptionStyleModel",
          "model_module_version": "1.5.0",
          "state": {
            "_model_module": "@jupyter-widgets/controls",
            "_model_module_version": "1.5.0",
            "_model_name": "DescriptionStyleModel",
            "_view_count": null,
            "_view_module": "@jupyter-widgets/base",
            "_view_module_version": "1.2.0",
            "_view_name": "StyleView",
            "description_width": ""
          }
        },
        "a831fad915694cd2a473613f48c0d6c1": {
          "model_module": "@jupyter-widgets/base",
          "model_name": "LayoutModel",
          "model_module_version": "1.2.0",
          "state": {
            "_model_module": "@jupyter-widgets/base",
            "_model_module_version": "1.2.0",
            "_model_name": "LayoutModel",
            "_view_count": null,
            "_view_module": "@jupyter-widgets/base",
            "_view_module_version": "1.2.0",
            "_view_name": "LayoutView",
            "align_content": null,
            "align_items": null,
            "align_self": null,
            "border": null,
            "bottom": null,
            "display": null,
            "flex": null,
            "flex_flow": null,
            "grid_area": null,
            "grid_auto_columns": null,
            "grid_auto_flow": null,
            "grid_auto_rows": null,
            "grid_column": null,
            "grid_gap": null,
            "grid_row": null,
            "grid_template_areas": null,
            "grid_template_columns": null,
            "grid_template_rows": null,
            "height": null,
            "justify_content": null,
            "justify_items": null,
            "left": null,
            "margin": null,
            "max_height": null,
            "max_width": null,
            "min_height": null,
            "min_width": null,
            "object_fit": null,
            "object_position": null,
            "order": null,
            "overflow": null,
            "overflow_x": null,
            "overflow_y": null,
            "padding": null,
            "right": null,
            "top": null,
            "visibility": null,
            "width": null
          }
        },
        "0ecf108d605c4e7d9078de690b27d240": {
          "model_module": "@jupyter-widgets/controls",
          "model_name": "ProgressStyleModel",
          "model_module_version": "1.5.0",
          "state": {
            "_model_module": "@jupyter-widgets/controls",
            "_model_module_version": "1.5.0",
            "_model_name": "ProgressStyleModel",
            "_view_count": null,
            "_view_module": "@jupyter-widgets/base",
            "_view_module_version": "1.2.0",
            "_view_name": "StyleView",
            "bar_color": null,
            "description_width": ""
          }
        },
        "229a812114cc4b169a4cc43be1c19293": {
          "model_module": "@jupyter-widgets/base",
          "model_name": "LayoutModel",
          "model_module_version": "1.2.0",
          "state": {
            "_model_module": "@jupyter-widgets/base",
            "_model_module_version": "1.2.0",
            "_model_name": "LayoutModel",
            "_view_count": null,
            "_view_module": "@jupyter-widgets/base",
            "_view_module_version": "1.2.0",
            "_view_name": "LayoutView",
            "align_content": null,
            "align_items": null,
            "align_self": null,
            "border": null,
            "bottom": null,
            "display": null,
            "flex": null,
            "flex_flow": null,
            "grid_area": null,
            "grid_auto_columns": null,
            "grid_auto_flow": null,
            "grid_auto_rows": null,
            "grid_column": null,
            "grid_gap": null,
            "grid_row": null,
            "grid_template_areas": null,
            "grid_template_columns": null,
            "grid_template_rows": null,
            "height": null,
            "justify_content": null,
            "justify_items": null,
            "left": null,
            "margin": null,
            "max_height": null,
            "max_width": null,
            "min_height": null,
            "min_width": null,
            "object_fit": null,
            "object_position": null,
            "order": null,
            "overflow": null,
            "overflow_x": null,
            "overflow_y": null,
            "padding": null,
            "right": null,
            "top": null,
            "visibility": null,
            "width": null
          }
        },
        "8dc2dae7648a4359b1ba985557c882f3": {
          "model_module": "@jupyter-widgets/controls",
          "model_name": "DescriptionStyleModel",
          "model_module_version": "1.5.0",
          "state": {
            "_model_module": "@jupyter-widgets/controls",
            "_model_module_version": "1.5.0",
            "_model_name": "DescriptionStyleModel",
            "_view_count": null,
            "_view_module": "@jupyter-widgets/base",
            "_view_module_version": "1.2.0",
            "_view_name": "StyleView",
            "description_width": ""
          }
        }
      }
    }
  },
  "nbformat": 4,
  "nbformat_minor": 0
}